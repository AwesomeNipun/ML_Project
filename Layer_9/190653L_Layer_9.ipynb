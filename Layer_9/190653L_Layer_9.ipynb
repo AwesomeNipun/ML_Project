{
  "cells": [
    {
      "cell_type": "markdown",
      "metadata": {},
      "source": [
        "## Imports"
      ]
    },
    {
      "cell_type": "code",
      "execution_count": 1,
      "metadata": {
        "id": "fbogDLgGmUWQ"
      },
      "outputs": [],
      "source": [
        "import pandas as pd\n",
        "import numpy as np\n",
        "from sklearn.neighbors import KNeighborsClassifier\n",
        "from sklearn.svm import SVC\n",
        "from sklearn.metrics import accuracy_score\n",
        "import matplotlib.pyplot as plt\n",
        "import seaborn as sn\n",
        "from sklearn.ensemble import RandomForestClassifier\n",
        "from xgboost import XGBClassifier\n",
        "from sklearn.decomposition import PCA\n",
        "from sklearn.preprocessing import RobustScaler\n",
        "from sklearn.model_selection import GridSearchCV\n",
        "from sklearn.model_selection import RandomizedSearchCV\n",
        "from sklearn.model_selection import cross_val_score\n",
        "from sklearn.preprocessing import StandardScaler\n",
        "from sklearn.ensemble import GradientBoostingClassifier\n",
        "from sklearn.linear_model import LogisticRegression\n",
        "from catboost import CatBoostClassifier\n",
        "from imblearn.over_sampling import RandomOverSampler"
      ]
    },
    {
      "cell_type": "markdown",
      "metadata": {},
      "source": [
        "## Data Retrieval"
      ]
    },
    {
      "cell_type": "code",
      "execution_count": 2,
      "metadata": {
        "id": "YmWl-O46mYOs"
      },
      "outputs": [],
      "source": [
        "# Specify the file paths\n",
        "train_path = \"./train.csv\"\n",
        "valid_path = \"./valid.csv\"\n",
        "test_path = \"./test.csv\"\n",
        "\n",
        "# Load the CSV files into Pandas DataFrames\n",
        "train = pd.read_csv(train_path)\n",
        "valid = pd.read_csv(valid_path)\n",
        "test = pd.read_csv(test_path)"
      ]
    },
    {
      "cell_type": "markdown",
      "metadata": {},
      "source": [
        "## Preprocessing"
      ]
    },
    {
      "cell_type": "code",
      "execution_count": 3,
      "metadata": {
        "id": "cSKjKZummnMZ"
      },
      "outputs": [],
      "source": [
        "train_ = train.copy()\n",
        "valid_ = valid.copy()\n",
        "test_ = test.copy()\n",
        "test_ = test_.drop(columns=['ID'])"
      ]
    },
    {
      "cell_type": "code",
      "execution_count": 4,
      "metadata": {},
      "outputs": [],
      "source": [
        "labels = ['label_1', 'label_2', 'label_3', 'label_4']"
      ]
    },
    {
      "cell_type": "code",
      "execution_count": 5,
      "metadata": {},
      "outputs": [],
      "source": [
        "# dict to store train and valid dataset for each label\n",
        "train_features = {}\n",
        "train_label = {}\n",
        "valid_features = {}\n",
        "valid_label = {}\n",
        "\n",
        "# seperate the train and valid datasets into labels\n",
        "# remove the rows where label is NaN\n",
        "\n",
        "for label in labels:\n",
        "    # Filter rows where the specific label column does not have missing values\n",
        "    train_temp = train_[train_[label].notna()]\n",
        "    valid_temp = valid_[valid_[label].notna()]\n",
        "\n",
        "    # Separate the features and labels\n",
        "    train_features[label] = train_temp.drop(labels, axis=1)\n",
        "    train_label[label] = train_temp[label]\n",
        "    valid_features[label] = valid_temp.drop(labels, axis=1)\n",
        "    valid_label[label] = valid_temp[label]"
      ]
    },
    {
      "cell_type": "markdown",
      "metadata": {},
      "source": [
        "## Common Methods"
      ]
    },
    {
      "cell_type": "markdown",
      "metadata": {},
      "source": [
        "### Classifier"
      ]
    },
    {
      "cell_type": "code",
      "execution_count": 6,
      "metadata": {},
      "outputs": [],
      "source": [
        "models = [\"svm\", \"rfc\", \"lr\", \"cb\", \"knn\"]"
      ]
    },
    {
      "cell_type": "code",
      "execution_count": 7,
      "metadata": {},
      "outputs": [],
      "source": [
        "def classify(model, L, X_train, X_valid, y_train, y_valid):\n",
        "  classifier = None\n",
        "  class_weight = None if L == 'label_1' else 'balanced'\n",
        "  \n",
        "  if model == \"svm\":\n",
        "    classifier = SVC(kernel='linear', class_weight=class_weight)\n",
        "\n",
        "  elif model == \"rfc\":\n",
        "    classifier = RandomForestClassifier(class_weight=class_weight)\n",
        "\n",
        "  elif model == \"lr\":\n",
        "    classifier = LogisticRegression(class_weight=class_weight, max_iter=1000)\n",
        "\n",
        "  elif model == \"cb\":\n",
        "    classifier = CatBoostClassifier(class_weights='Auto', iterations=100)\n",
        "                                    \n",
        "  elif model == \"knn\":\n",
        "    classifier = KNeighborsClassifier(n_neighbors=1)\n",
        "\n",
        "  \n",
        "\n",
        "  if model == \"knn\": # KNN\n",
        "    classifier.fit(np.array(X_train[L]), y_train[L])\n",
        "    y_pred = classifier.predict(np.array(X_valid[L]))\n",
        "  else:\n",
        "    classifier.fit(X_train[L], y_train[L])\n",
        "    y_pred = classifier.predict(X_valid[L])\n",
        "\n",
        "  accuracy = accuracy_score(y_valid[L], y_pred)\n",
        "  print(f\"{model} Accuracy Score for {L} = %.2f%%\" % (accuracy * 100))\n",
        "\n",
        "  return accuracy"
      ]
    },
    {
      "cell_type": "markdown",
      "metadata": {},
      "source": [
        "### Random grid search with cross validation"
      ]
    },
    {
      "cell_type": "code",
      "execution_count": 8,
      "metadata": {},
      "outputs": [],
      "source": [
        "def random_grid_search_classifier(classifier, X_train, y_train, param_distributions):\n",
        "\n",
        "    # Create a random search object with cross-validation\n",
        "    random_search = RandomizedSearchCV(\n",
        "        estimator=classifier,\n",
        "        param_distributions=param_distributions,\n",
        "        scoring='accuracy',\n",
        "        cv=2,\n",
        "        verbose=1,\n",
        "        n_jobs=-1,\n",
        "        n_iter=5,\n",
        "        random_state=42)\n",
        "    \n",
        "    # Fit the random search to the training data\n",
        "    random_search.fit(X_train, y_train)\n",
        "\n",
        "    # Get the best model from the random search\n",
        "    best_model = random_search.best_estimator_\n",
        "    best_params = random_search.best_params_\n",
        "    best_accuracy = random_search.best_score_\n",
        "\n",
        "    return best_model, best_accuracy, best_params"
      ]
    },
    {
      "cell_type": "markdown",
      "metadata": {},
      "source": [
        "### Grid Search with cross validation"
      ]
    },
    {
      "cell_type": "code",
      "execution_count": 9,
      "metadata": {},
      "outputs": [],
      "source": [
        "def grid_search_classifier(classifier, X_train, y_train, X_valid, y_valid, param_grid):\n",
        "\n",
        "    # Create a grid search object with cross-validation\n",
        "    grid_search = GridSearchCV(\n",
        "        classifier, \n",
        "        param_grid, \n",
        "        cv=2, \n",
        "        dddn_jobs=-1)\n",
        "\n",
        "    # Fit the grid search to the training data\n",
        "    grid_search.fit(X_train, y_train)\n",
        "\n",
        "    # Get the best model from the grid search\n",
        "    best_model = grid_search.best_estimator_\n",
        "\n",
        "    # Make predictions on the testing data using the best model\n",
        "    y_pred = best_model.predict(X_valid)\n",
        "\n",
        "    # Calculate accuracy score\n",
        "    accuracy = accuracy_score(y_valid, y_pred)\n",
        "\n",
        "    # Return accuracy and best hyperparameters\n",
        "    return accuracy, grid_search.best_params_"
      ]
    },
    {
      "cell_type": "markdown",
      "metadata": {},
      "source": [
        "### K fold cross validation"
      ]
    },
    {
      "cell_type": "code",
      "execution_count": 10,
      "metadata": {},
      "outputs": [],
      "source": [
        "def k_fold_cross_validation(clasifier, k, X_train, y_train):\n",
        "\n",
        "    scores = cross_val_score(clasifier, X_train, y_train, cv=k)\n",
        "    mean_score = np.mean(scores)\n",
        "    std_deviation = np.std(scores)\n",
        "    print(\"Cross-Validation Scores:\", scores)\n",
        "    print(\"Mean Score:\", mean_score)\n",
        "    print(\"Standard Deviation:\", std_deviation)"
      ]
    },
    {
      "cell_type": "markdown",
      "metadata": {},
      "source": [
        "### Get prediction for classifier"
      ]
    },
    {
      "cell_type": "code",
      "execution_count": 11,
      "metadata": {},
      "outputs": [],
      "source": [
        "def get_classifier_predictions(model, x_valid, y_valid):\n",
        "\n",
        "    y_pred = model.predict(x_valid)\n",
        "    accuracy = accuracy_score(y_valid, y_pred)\n",
        "\n",
        "    return accuracy"
      ]
    },
    {
      "cell_type": "markdown",
      "metadata": {},
      "source": [
        "# Label 1"
      ]
    },
    {
      "cell_type": "code",
      "execution_count": 12,
      "metadata": {
        "colab": {
          "base_uri": "https://localhost:8080/",
          "height": 255
        },
        "id": "IEchXDl7m0sI",
        "outputId": "04aba442-1b2c-4f57-d75f-49f11dad4e4b"
      },
      "outputs": [
        {
          "data": {
            "text/html": [
              "<div>\n",
              "<style scoped>\n",
              "    .dataframe tbody tr th:only-of-type {\n",
              "        vertical-align: middle;\n",
              "    }\n",
              "\n",
              "    .dataframe tbody tr th {\n",
              "        vertical-align: top;\n",
              "    }\n",
              "\n",
              "    .dataframe thead th {\n",
              "        text-align: right;\n",
              "    }\n",
              "</style>\n",
              "<table border=\"1\" class=\"dataframe\">\n",
              "  <thead>\n",
              "    <tr style=\"text-align: right;\">\n",
              "      <th></th>\n",
              "      <th>feature_1</th>\n",
              "      <th>feature_2</th>\n",
              "      <th>feature_3</th>\n",
              "      <th>feature_4</th>\n",
              "      <th>feature_5</th>\n",
              "      <th>feature_6</th>\n",
              "      <th>feature_7</th>\n",
              "      <th>feature_8</th>\n",
              "      <th>feature_9</th>\n",
              "      <th>feature_10</th>\n",
              "      <th>...</th>\n",
              "      <th>feature_759</th>\n",
              "      <th>feature_760</th>\n",
              "      <th>feature_761</th>\n",
              "      <th>feature_762</th>\n",
              "      <th>feature_763</th>\n",
              "      <th>feature_764</th>\n",
              "      <th>feature_765</th>\n",
              "      <th>feature_766</th>\n",
              "      <th>feature_767</th>\n",
              "      <th>feature_768</th>\n",
              "    </tr>\n",
              "  </thead>\n",
              "  <tbody>\n",
              "    <tr>\n",
              "      <th>0</th>\n",
              "      <td>0.019301</td>\n",
              "      <td>0.059756</td>\n",
              "      <td>0.081375</td>\n",
              "      <td>0.057481</td>\n",
              "      <td>-0.068440</td>\n",
              "      <td>-0.165913</td>\n",
              "      <td>0.035643</td>\n",
              "      <td>-0.091138</td>\n",
              "      <td>0.021688</td>\n",
              "      <td>0.057158</td>\n",
              "      <td>...</td>\n",
              "      <td>-0.108481</td>\n",
              "      <td>0.124449</td>\n",
              "      <td>0.124765</td>\n",
              "      <td>-0.235671</td>\n",
              "      <td>-0.035576</td>\n",
              "      <td>0.127319</td>\n",
              "      <td>0.098128</td>\n",
              "      <td>-0.058787</td>\n",
              "      <td>0.100971</td>\n",
              "      <td>-0.047754</td>\n",
              "    </tr>\n",
              "    <tr>\n",
              "      <th>1</th>\n",
              "      <td>0.049741</td>\n",
              "      <td>0.090030</td>\n",
              "      <td>0.035118</td>\n",
              "      <td>-0.013676</td>\n",
              "      <td>-0.194317</td>\n",
              "      <td>-0.101763</td>\n",
              "      <td>0.085875</td>\n",
              "      <td>-0.081317</td>\n",
              "      <td>0.112418</td>\n",
              "      <td>0.120523</td>\n",
              "      <td>...</td>\n",
              "      <td>-0.025115</td>\n",
              "      <td>0.186260</td>\n",
              "      <td>0.085101</td>\n",
              "      <td>-0.365903</td>\n",
              "      <td>0.020538</td>\n",
              "      <td>0.058968</td>\n",
              "      <td>0.029803</td>\n",
              "      <td>0.111324</td>\n",
              "      <td>0.036727</td>\n",
              "      <td>0.031927</td>\n",
              "    </tr>\n",
              "    <tr>\n",
              "      <th>2</th>\n",
              "      <td>0.019212</td>\n",
              "      <td>0.087779</td>\n",
              "      <td>0.093907</td>\n",
              "      <td>-0.033738</td>\n",
              "      <td>-0.141409</td>\n",
              "      <td>-0.062881</td>\n",
              "      <td>-0.071402</td>\n",
              "      <td>-0.006599</td>\n",
              "      <td>0.020372</td>\n",
              "      <td>-0.027777</td>\n",
              "      <td>...</td>\n",
              "      <td>-0.058567</td>\n",
              "      <td>0.019542</td>\n",
              "      <td>0.144256</td>\n",
              "      <td>-0.123374</td>\n",
              "      <td>0.119645</td>\n",
              "      <td>-0.040861</td>\n",
              "      <td>0.000548</td>\n",
              "      <td>-0.061003</td>\n",
              "      <td>-0.042450</td>\n",
              "      <td>0.063340</td>\n",
              "    </tr>\n",
              "    <tr>\n",
              "      <th>3</th>\n",
              "      <td>0.070283</td>\n",
              "      <td>0.049040</td>\n",
              "      <td>0.042126</td>\n",
              "      <td>0.122637</td>\n",
              "      <td>-0.056964</td>\n",
              "      <td>-0.113700</td>\n",
              "      <td>0.108454</td>\n",
              "      <td>0.051336</td>\n",
              "      <td>0.086610</td>\n",
              "      <td>0.141578</td>\n",
              "      <td>...</td>\n",
              "      <td>-0.124006</td>\n",
              "      <td>0.117235</td>\n",
              "      <td>-0.038984</td>\n",
              "      <td>-0.028714</td>\n",
              "      <td>-0.124494</td>\n",
              "      <td>-0.169225</td>\n",
              "      <td>-0.046391</td>\n",
              "      <td>0.148787</td>\n",
              "      <td>0.014616</td>\n",
              "      <td>-0.140644</td>\n",
              "    </tr>\n",
              "    <tr>\n",
              "      <th>4</th>\n",
              "      <td>0.028864</td>\n",
              "      <td>0.165634</td>\n",
              "      <td>0.016302</td>\n",
              "      <td>0.036117</td>\n",
              "      <td>-0.028871</td>\n",
              "      <td>-0.147748</td>\n",
              "      <td>0.053180</td>\n",
              "      <td>0.025071</td>\n",
              "      <td>-0.004200</td>\n",
              "      <td>-0.022183</td>\n",
              "      <td>...</td>\n",
              "      <td>-0.112267</td>\n",
              "      <td>0.029716</td>\n",
              "      <td>0.077643</td>\n",
              "      <td>-0.182132</td>\n",
              "      <td>-0.124862</td>\n",
              "      <td>0.044907</td>\n",
              "      <td>0.084005</td>\n",
              "      <td>-0.038450</td>\n",
              "      <td>0.084371</td>\n",
              "      <td>-0.072146</td>\n",
              "    </tr>\n",
              "  </tbody>\n",
              "</table>\n",
              "<p>5 rows × 768 columns</p>\n",
              "</div>"
            ],
            "text/plain": [
              "   feature_1  feature_2  feature_3  feature_4  feature_5  feature_6  \\\n",
              "0   0.019301   0.059756   0.081375   0.057481  -0.068440  -0.165913   \n",
              "1   0.049741   0.090030   0.035118  -0.013676  -0.194317  -0.101763   \n",
              "2   0.019212   0.087779   0.093907  -0.033738  -0.141409  -0.062881   \n",
              "3   0.070283   0.049040   0.042126   0.122637  -0.056964  -0.113700   \n",
              "4   0.028864   0.165634   0.016302   0.036117  -0.028871  -0.147748   \n",
              "\n",
              "   feature_7  feature_8  feature_9  feature_10  ...  feature_759  feature_760  \\\n",
              "0   0.035643  -0.091138   0.021688    0.057158  ...    -0.108481     0.124449   \n",
              "1   0.085875  -0.081317   0.112418    0.120523  ...    -0.025115     0.186260   \n",
              "2  -0.071402  -0.006599   0.020372   -0.027777  ...    -0.058567     0.019542   \n",
              "3   0.108454   0.051336   0.086610    0.141578  ...    -0.124006     0.117235   \n",
              "4   0.053180   0.025071  -0.004200   -0.022183  ...    -0.112267     0.029716   \n",
              "\n",
              "   feature_761  feature_762  feature_763  feature_764  feature_765  \\\n",
              "0     0.124765    -0.235671    -0.035576     0.127319     0.098128   \n",
              "1     0.085101    -0.365903     0.020538     0.058968     0.029803   \n",
              "2     0.144256    -0.123374     0.119645    -0.040861     0.000548   \n",
              "3    -0.038984    -0.028714    -0.124494    -0.169225    -0.046391   \n",
              "4     0.077643    -0.182132    -0.124862     0.044907     0.084005   \n",
              "\n",
              "   feature_766  feature_767  feature_768  \n",
              "0    -0.058787     0.100971    -0.047754  \n",
              "1     0.111324     0.036727     0.031927  \n",
              "2    -0.061003    -0.042450     0.063340  \n",
              "3     0.148787     0.014616    -0.140644  \n",
              "4    -0.038450     0.084371    -0.072146  \n",
              "\n",
              "[5 rows x 768 columns]"
            ]
          },
          "execution_count": 12,
          "metadata": {},
          "output_type": "execute_result"
        }
      ],
      "source": [
        "train_features['label_1'].head()"
      ]
    },
    {
      "cell_type": "code",
      "execution_count": 13,
      "metadata": {
        "colab": {
          "base_uri": "https://localhost:8080/",
          "height": 539
        },
        "id": "s59jCrGXnWqm",
        "outputId": "d7e1ec84-9c9b-4ff4-b523-d0d039575616"
      },
      "outputs": [
        {
          "name": "stderr",
          "output_type": "stream",
          "text": [
            "d:\\Applications\\Mambaforge\\envs\\env_gpu\\lib\\site-packages\\seaborn\\_oldcore.py:1498: FutureWarning: is_categorical_dtype is deprecated and will be removed in a future version. Use isinstance(dtype, CategoricalDtype) instead\n",
            "  if pd.api.types.is_categorical_dtype(vector):\n",
            "d:\\Applications\\Mambaforge\\envs\\env_gpu\\lib\\site-packages\\seaborn\\_oldcore.py:1498: FutureWarning: is_categorical_dtype is deprecated and will be removed in a future version. Use isinstance(dtype, CategoricalDtype) instead\n",
            "  if pd.api.types.is_categorical_dtype(vector):\n",
            "d:\\Applications\\Mambaforge\\envs\\env_gpu\\lib\\site-packages\\seaborn\\_oldcore.py:1498: FutureWarning: is_categorical_dtype is deprecated and will be removed in a future version. Use isinstance(dtype, CategoricalDtype) instead\n",
            "  if pd.api.types.is_categorical_dtype(vector):\n"
          ]
        },
        {
          "data": {
            "text/plain": [
              "<Axes: xlabel='label_1', ylabel='count'>"
            ]
          },
          "execution_count": 13,
          "metadata": {},
          "output_type": "execute_result"
        },
        {
          "data": {
            "image/png": "[encoded data removed]",
            "text/plain": [
              "<Figure size 1800x600 with 1 Axes>"
            ]
          },
          "metadata": {},
          "output_type": "display_data"
        }
      ],
      "source": [
        "plt.figure(figsize=(18, 6))\n",
        "sn.countplot(data=train_label, x='label_1', color='purple')"
      ]
    },
    {
      "cell_type": "markdown",
      "metadata": {},
      "source": [
        "## Before Feature Engineering"
      ]
    },
    {
      "cell_type": "code",
      "execution_count": 14,
      "metadata": {},
      "outputs": [
        {
          "name": "stdout",
          "output_type": "stream",
          "text": [
            "svm Accuracy Score for label_1 = 96.93%\n"
          ]
        },
        {
          "data": {
            "text/plain": [
              "0.9693333333333334"
            ]
          },
          "execution_count": 14,
          "metadata": {},
          "output_type": "execute_result"
        }
      ],
      "source": [
        "classify(models[0], 'label_1', train_features, valid_features, train_label, valid_label)"
      ]
    },
    {
      "cell_type": "code",
      "execution_count": 15,
      "metadata": {},
      "outputs": [
        {
          "name": "stdout",
          "output_type": "stream",
          "text": [
            "rfc Accuracy Score for label_1 = 88.13%\n"
          ]
        },
        {
          "data": {
            "text/plain": [
              "0.8813333333333333"
            ]
          },
          "execution_count": 15,
          "metadata": {},
          "output_type": "execute_result"
        }
      ],
      "source": [
        "classify(models[1], 'label_1', train_features, valid_features, train_label, valid_label)"
      ]
    },
    {
      "cell_type": "code",
      "execution_count": 16,
      "metadata": {},
      "outputs": [
        {
          "name": "stdout",
          "output_type": "stream",
          "text": [
            "knn Accuracy Score for label_1 = 91.07%\n"
          ]
        },
        {
          "data": {
            "text/plain": [
              "0.9106666666666666"
            ]
          },
          "execution_count": 16,
          "metadata": {},
          "output_type": "execute_result"
        }
      ],
      "source": [
        "classify(models[4], 'label_1', train_features, valid_features, train_label, valid_label)"
      ]
    },
    {
      "cell_type": "markdown",
      "metadata": {},
      "source": [
        "## Feature Engineering"
      ]
    },
    {
      "cell_type": "markdown",
      "metadata": {},
      "source": [
        "### Standardization"
      ]
    },
    {
      "cell_type": "code",
      "execution_count": 17,
      "metadata": {},
      "outputs": [
        {
          "data": {
            "text/html": [
              "<div>\n",
              "<style scoped>\n",
              "    .dataframe tbody tr th:only-of-type {\n",
              "        vertical-align: middle;\n",
              "    }\n",
              "\n",
              "    .dataframe tbody tr th {\n",
              "        vertical-align: top;\n",
              "    }\n",
              "\n",
              "    .dataframe thead th {\n",
              "        text-align: right;\n",
              "    }\n",
              "</style>\n",
              "<table border=\"1\" class=\"dataframe\">\n",
              "  <thead>\n",
              "    <tr style=\"text-align: right;\">\n",
              "      <th></th>\n",
              "      <th>ID</th>\n",
              "      <th>feature_1</th>\n",
              "      <th>feature_2</th>\n",
              "      <th>feature_3</th>\n",
              "      <th>feature_4</th>\n",
              "      <th>feature_5</th>\n",
              "      <th>feature_6</th>\n",
              "      <th>feature_7</th>\n",
              "      <th>feature_8</th>\n",
              "      <th>feature_9</th>\n",
              "      <th>...</th>\n",
              "      <th>feature_759</th>\n",
              "      <th>feature_760</th>\n",
              "      <th>feature_761</th>\n",
              "      <th>feature_762</th>\n",
              "      <th>feature_763</th>\n",
              "      <th>feature_764</th>\n",
              "      <th>feature_765</th>\n",
              "      <th>feature_766</th>\n",
              "      <th>feature_767</th>\n",
              "      <th>feature_768</th>\n",
              "    </tr>\n",
              "  </thead>\n",
              "  <tbody>\n",
              "    <tr>\n",
              "      <th>0</th>\n",
              "      <td>1</td>\n",
              "      <td>0.013112</td>\n",
              "      <td>0.130904</td>\n",
              "      <td>0.020284</td>\n",
              "      <td>0.063018</td>\n",
              "      <td>-0.034321</td>\n",
              "      <td>-0.073516</td>\n",
              "      <td>-0.030659</td>\n",
              "      <td>-0.064994</td>\n",
              "      <td>0.024153</td>\n",
              "      <td>...</td>\n",
              "      <td>0.037803</td>\n",
              "      <td>0.241121</td>\n",
              "      <td>0.079949</td>\n",
              "      <td>-0.186099</td>\n",
              "      <td>-0.096718</td>\n",
              "      <td>0.126006</td>\n",
              "      <td>-0.023069</td>\n",
              "      <td>0.190374</td>\n",
              "      <td>0.146516</td>\n",
              "      <td>0.038047</td>\n",
              "    </tr>\n",
              "    <tr>\n",
              "      <th>1</th>\n",
              "      <td>2</td>\n",
              "      <td>0.005934</td>\n",
              "      <td>0.138592</td>\n",
              "      <td>-0.007000</td>\n",
              "      <td>0.055925</td>\n",
              "      <td>-0.021927</td>\n",
              "      <td>-0.084788</td>\n",
              "      <td>0.013339</td>\n",
              "      <td>0.060811</td>\n",
              "      <td>-0.011344</td>\n",
              "      <td>...</td>\n",
              "      <td>-0.098701</td>\n",
              "      <td>0.042921</td>\n",
              "      <td>0.018571</td>\n",
              "      <td>-0.114785</td>\n",
              "      <td>-0.105186</td>\n",
              "      <td>0.059050</td>\n",
              "      <td>0.021443</td>\n",
              "      <td>0.013027</td>\n",
              "      <td>0.046826</td>\n",
              "      <td>-0.026682</td>\n",
              "    </tr>\n",
              "    <tr>\n",
              "      <th>2</th>\n",
              "      <td>3</td>\n",
              "      <td>-0.067210</td>\n",
              "      <td>0.078710</td>\n",
              "      <td>-0.044344</td>\n",
              "      <td>0.101248</td>\n",
              "      <td>-0.074331</td>\n",
              "      <td>-0.088951</td>\n",
              "      <td>0.074616</td>\n",
              "      <td>0.007231</td>\n",
              "      <td>0.021091</td>\n",
              "      <td>...</td>\n",
              "      <td>0.029569</td>\n",
              "      <td>0.053370</td>\n",
              "      <td>0.096232</td>\n",
              "      <td>-0.369018</td>\n",
              "      <td>-0.066708</td>\n",
              "      <td>-0.003730</td>\n",
              "      <td>-0.063339</td>\n",
              "      <td>-0.044497</td>\n",
              "      <td>-0.024363</td>\n",
              "      <td>-0.042594</td>\n",
              "    </tr>\n",
              "    <tr>\n",
              "      <th>3</th>\n",
              "      <td>4</td>\n",
              "      <td>-0.005678</td>\n",
              "      <td>0.060703</td>\n",
              "      <td>0.033954</td>\n",
              "      <td>0.068771</td>\n",
              "      <td>-0.039923</td>\n",
              "      <td>-0.186583</td>\n",
              "      <td>0.014921</td>\n",
              "      <td>0.020791</td>\n",
              "      <td>0.017441</td>\n",
              "      <td>...</td>\n",
              "      <td>-0.095406</td>\n",
              "      <td>0.018405</td>\n",
              "      <td>-0.018047</td>\n",
              "      <td>-0.080393</td>\n",
              "      <td>-0.114030</td>\n",
              "      <td>0.048255</td>\n",
              "      <td>0.033839</td>\n",
              "      <td>0.035026</td>\n",
              "      <td>-0.047988</td>\n",
              "      <td>-0.038252</td>\n",
              "    </tr>\n",
              "    <tr>\n",
              "      <th>4</th>\n",
              "      <td>5</td>\n",
              "      <td>-0.076360</td>\n",
              "      <td>0.061095</td>\n",
              "      <td>-0.004938</td>\n",
              "      <td>0.066692</td>\n",
              "      <td>-0.040454</td>\n",
              "      <td>-0.005141</td>\n",
              "      <td>-0.003213</td>\n",
              "      <td>0.025721</td>\n",
              "      <td>0.083558</td>\n",
              "      <td>...</td>\n",
              "      <td>-0.003129</td>\n",
              "      <td>0.045479</td>\n",
              "      <td>0.057146</td>\n",
              "      <td>-0.194466</td>\n",
              "      <td>0.000739</td>\n",
              "      <td>0.018702</td>\n",
              "      <td>0.013192</td>\n",
              "      <td>-0.038486</td>\n",
              "      <td>0.033358</td>\n",
              "      <td>-0.038452</td>\n",
              "    </tr>\n",
              "  </tbody>\n",
              "</table>\n",
              "<p>5 rows × 769 columns</p>\n",
              "</div>"
            ],
            "text/plain": [
              "   ID  feature_1  feature_2  feature_3  feature_4  feature_5  feature_6  \\\n",
              "0   1   0.013112   0.130904   0.020284   0.063018  -0.034321  -0.073516   \n",
              "1   2   0.005934   0.138592  -0.007000   0.055925  -0.021927  -0.084788   \n",
              "2   3  -0.067210   0.078710  -0.044344   0.101248  -0.074331  -0.088951   \n",
              "3   4  -0.005678   0.060703   0.033954   0.068771  -0.039923  -0.186583   \n",
              "4   5  -0.076360   0.061095  -0.004938   0.066692  -0.040454  -0.005141   \n",
              "\n",
              "   feature_7  feature_8  feature_9  ...  feature_759  feature_760  \\\n",
              "0  -0.030659  -0.064994   0.024153  ...     0.037803     0.241121   \n",
              "1   0.013339   0.060811  -0.011344  ...    -0.098701     0.042921   \n",
              "2   0.074616   0.007231   0.021091  ...     0.029569     0.053370   \n",
              "3   0.014921   0.020791   0.017441  ...    -0.095406     0.018405   \n",
              "4  -0.003213   0.025721   0.083558  ...    -0.003129     0.045479   \n",
              "\n",
              "   feature_761  feature_762  feature_763  feature_764  feature_765  \\\n",
              "0     0.079949    -0.186099    -0.096718     0.126006    -0.023069   \n",
              "1     0.018571    -0.114785    -0.105186     0.059050     0.021443   \n",
              "2     0.096232    -0.369018    -0.066708    -0.003730    -0.063339   \n",
              "3    -0.018047    -0.080393    -0.114030     0.048255     0.033839   \n",
              "4     0.057146    -0.194466     0.000739     0.018702     0.013192   \n",
              "\n",
              "   feature_766  feature_767  feature_768  \n",
              "0     0.190374     0.146516     0.038047  \n",
              "1     0.013027     0.046826    -0.026682  \n",
              "2    -0.044497    -0.024363    -0.042594  \n",
              "3     0.035026    -0.047988    -0.038252  \n",
              "4    -0.038486     0.033358    -0.038452  \n",
              "\n",
              "[5 rows x 769 columns]"
            ]
          },
          "execution_count": 17,
          "metadata": {},
          "output_type": "execute_result"
        }
      ],
      "source": [
        "test.head()"
      ]
    },
    {
      "cell_type": "code",
      "execution_count": 18,
      "metadata": {},
      "outputs": [],
      "source": [
        "# scaler = RobustScaler()\n",
        "scaler = StandardScaler()\n",
        "\n",
        "# Fit and transform the training data\n",
        "train_standardized = scaler.fit_transform(train_features['label_1'])\n",
        "\n",
        "# Transform the validation data using the same scaler\n",
        "valid_standardized = scaler.transform(valid_features['label_1'])\n",
        "\n",
        "# Transform the test data using the same scaler\n",
        "test_standardized = scaler.transform(test_)"
      ]
    },
    {
      "cell_type": "markdown",
      "metadata": {},
      "source": [
        "### PCA"
      ]
    },
    {
      "cell_type": "code",
      "execution_count": 19,
      "metadata": {},
      "outputs": [
        {
          "name": "stdout",
          "output_type": "stream",
          "text": [
            "Number of componenets for train data: 350\n"
          ]
        }
      ],
      "source": [
        "threshold = 0.96\n",
        "\n",
        "pca_train = {}\n",
        "pca_valid = {}\n",
        "pca_test = {}\n",
        "\n",
        "pca = PCA(threshold, svd_solver='full')\n",
        "\n",
        "\n",
        "pca_train['label_1'] = pca.fit_transform(train_standardized)\n",
        "pca_valid['label_1'] = pca.transform(valid_standardized)\n",
        "pca_test['label_1'] = pca.transform(test_standardized)\n",
        "\n",
        "explained_variance = pca.explained_variance_ratio_\n",
        "\n",
        "retained_features_len = len(explained_variance)\n",
        "print(\"Number of componenets for train data:\", retained_features_len)"
      ]
    },
    {
      "cell_type": "code",
      "execution_count": 20,
      "metadata": {},
      "outputs": [
        {
          "name": "stdout",
          "output_type": "stream",
          "text": [
            "svm Accuracy Score for label_1 = 93.33%\n"
          ]
        },
        {
          "data": {
            "text/plain": [
              "0.9333333333333333"
            ]
          },
          "execution_count": 20,
          "metadata": {},
          "output_type": "execute_result"
        }
      ],
      "source": [
        "classify(models[0], 'label_1', pca_train, pca_valid, train_label, valid_label)"
      ]
    },
    {
      "cell_type": "code",
      "execution_count": 21,
      "metadata": {},
      "outputs": [
        {
          "name": "stdout",
          "output_type": "stream",
          "text": [
            "rfc Accuracy Score for label_1 = 79.73%\n"
          ]
        },
        {
          "data": {
            "text/plain": [
              "0.7973333333333333"
            ]
          },
          "execution_count": 21,
          "metadata": {},
          "output_type": "execute_result"
        }
      ],
      "source": [
        "classify(models[1], 'label_1', pca_train, pca_valid, train_label, valid_label)"
      ]
    },
    {
      "cell_type": "code",
      "execution_count": 23,
      "metadata": {},
      "outputs": [
        {
          "name": "stdout",
          "output_type": "stream",
          "text": [
            "knn Accuracy Score for label_1 = 88.13%\n"
          ]
        },
        {
          "data": {
            "text/plain": [
              "0.8813333333333333"
            ]
          },
          "execution_count": 23,
          "metadata": {},
          "output_type": "execute_result"
        }
      ],
      "source": [
        "classify(models[4], 'label_1', pca_train, pca_valid, train_label, valid_label)"
      ]
    },
    {
      "cell_type": "markdown",
      "metadata": {},
      "source": [
        "#### Since the higher accuracy is given by SVM we can use svm as the classifier. Then we can optimize it using hyperparameter tuning."
      ]
    },
    {
      "cell_type": "markdown",
      "metadata": {},
      "source": [
        "## Hyperparameter Tuning"
      ]
    },
    {
      "cell_type": "code",
      "execution_count": 45,
      "metadata": {},
      "outputs": [],
      "source": [
        "X_train = pca_train['label_1']\n",
        "X_valid = pca_valid['label_1']\n",
        "y_train = train_label['label_1']\n",
        "y_valid = valid_label['label_1']"
      ]
    },
    {
      "cell_type": "code",
      "execution_count": 25,
      "metadata": {},
      "outputs": [
        {
          "name": "stdout",
          "output_type": "stream",
          "text": [
            "Fitting 2 folds for each of 5 candidates, totalling 10 fits\n"
          ]
        },
        {
          "name": "stdout",
          "output_type": "stream",
          "text": [
            "Best Model: SVC(gamma=1000.0, kernel='poly')\n",
            "Best Accuracy: 92.24%\n",
            "Best Hyperparameters: {'kernel': 'poly', 'gamma': 1000.0, 'C': 1.0}\n"
          ]
        }
      ],
      "source": [
        "param_distributions = {\n",
        "    'C': np.logspace(-3, 3, 7),\n",
        "    'kernel': ['linear', 'rbf', 'poly'],\n",
        "    'gamma': np.logspace(-3, 3, 7)\n",
        "}\n",
        "\n",
        "# Create an instance of the classifier\n",
        "classifier = SVC()\n",
        "\n",
        "# Call the function to perform random search and get the best accuracy and hyperparameters\n",
        "best_model, best_accuracy, best_hyperparameters = random_grid_search_classifier(\n",
        "    classifier, \n",
        "    X_train, \n",
        "    y_train, \n",
        "    param_distributions)\n",
        "\n",
        "print(\"Best Model:\", best_model)\n",
        "print(\"Best Accuracy: %.2f%%\" % (best_accuracy * 100))\n",
        "print(\"Best Hyperparameters:\", best_hyperparameters)\n"
      ]
    },
    {
      "cell_type": "code",
      "execution_count": 26,
      "metadata": {},
      "outputs": [],
      "source": [
        "best_models = {}\n",
        "\n",
        "best_models['label_1'] = best_model"
      ]
    },
    {
      "cell_type": "code",
      "execution_count": 47,
      "metadata": {},
      "outputs": [
        {
          "name": "stdout",
          "output_type": "stream",
          "text": [
            "Accuracy: 96.00%\n"
          ]
        }
      ],
      "source": [
        "accuracy = get_classifier_predictions(best_models['label_1'], X_valid, y_valid)\n",
        "print(\"Accuracy: %.2f%%\" % (accuracy * 100))"
      ]
    },
    {
      "cell_type": "code",
      "execution_count": 28,
      "metadata": {},
      "outputs": [
        {
          "name": "stdout",
          "output_type": "stream",
          "text": [
            "Cross-Validation Scores: [0.94793128 0.94670407 0.94319776 0.94109397 0.94512623]\n",
            "Mean Score: 0.9448106591865357\n",
            "Standard Deviation: 0.002442870048857003\n"
          ]
        }
      ],
      "source": [
        "classifier = SVC(**best_hyperparameters)\n",
        "\n",
        "k_fold_cross_validation(classifier, 5, X_train, y_train)"
      ]
    },
    {
      "cell_type": "markdown",
      "metadata": {},
      "source": [
        "# Label 2"
      ]
    },
    {
      "cell_type": "code",
      "execution_count": 29,
      "metadata": {},
      "outputs": [
        {
          "data": {
            "text/html": [
              "<div>\n",
              "<style scoped>\n",
              "    .dataframe tbody tr th:only-of-type {\n",
              "        vertical-align: middle;\n",
              "    }\n",
              "\n",
              "    .dataframe tbody tr th {\n",
              "        vertical-align: top;\n",
              "    }\n",
              "\n",
              "    .dataframe thead th {\n",
              "        text-align: right;\n",
              "    }\n",
              "</style>\n",
              "<table border=\"1\" class=\"dataframe\">\n",
              "  <thead>\n",
              "    <tr style=\"text-align: right;\">\n",
              "      <th></th>\n",
              "      <th>feature_1</th>\n",
              "      <th>feature_2</th>\n",
              "      <th>feature_3</th>\n",
              "      <th>feature_4</th>\n",
              "      <th>feature_5</th>\n",
              "      <th>feature_6</th>\n",
              "      <th>feature_7</th>\n",
              "      <th>feature_8</th>\n",
              "      <th>feature_9</th>\n",
              "      <th>feature_10</th>\n",
              "      <th>...</th>\n",
              "      <th>feature_759</th>\n",
              "      <th>feature_760</th>\n",
              "      <th>feature_761</th>\n",
              "      <th>feature_762</th>\n",
              "      <th>feature_763</th>\n",
              "      <th>feature_764</th>\n",
              "      <th>feature_765</th>\n",
              "      <th>feature_766</th>\n",
              "      <th>feature_767</th>\n",
              "      <th>feature_768</th>\n",
              "    </tr>\n",
              "  </thead>\n",
              "  <tbody>\n",
              "    <tr>\n",
              "      <th>480</th>\n",
              "      <td>-0.037427</td>\n",
              "      <td>0.068284</td>\n",
              "      <td>-0.100538</td>\n",
              "      <td>0.076783</td>\n",
              "      <td>-0.113147</td>\n",
              "      <td>-0.079453</td>\n",
              "      <td>0.106947</td>\n",
              "      <td>0.011906</td>\n",
              "      <td>-0.047519</td>\n",
              "      <td>0.022915</td>\n",
              "      <td>...</td>\n",
              "      <td>0.061858</td>\n",
              "      <td>0.086089</td>\n",
              "      <td>0.004285</td>\n",
              "      <td>-0.325560</td>\n",
              "      <td>-0.035784</td>\n",
              "      <td>0.033521</td>\n",
              "      <td>-0.025551</td>\n",
              "      <td>0.083790</td>\n",
              "      <td>-0.027678</td>\n",
              "      <td>-0.008546</td>\n",
              "    </tr>\n",
              "    <tr>\n",
              "      <th>481</th>\n",
              "      <td>0.024931</td>\n",
              "      <td>0.045966</td>\n",
              "      <td>0.016385</td>\n",
              "      <td>0.028214</td>\n",
              "      <td>-0.092396</td>\n",
              "      <td>-0.053490</td>\n",
              "      <td>-0.018101</td>\n",
              "      <td>0.053902</td>\n",
              "      <td>0.080196</td>\n",
              "      <td>0.010693</td>\n",
              "      <td>...</td>\n",
              "      <td>0.048435</td>\n",
              "      <td>0.127840</td>\n",
              "      <td>0.060487</td>\n",
              "      <td>-0.268356</td>\n",
              "      <td>-0.001359</td>\n",
              "      <td>0.019178</td>\n",
              "      <td>0.068597</td>\n",
              "      <td>0.066214</td>\n",
              "      <td>0.141953</td>\n",
              "      <td>0.075839</td>\n",
              "    </tr>\n",
              "    <tr>\n",
              "      <th>482</th>\n",
              "      <td>0.025077</td>\n",
              "      <td>0.082511</td>\n",
              "      <td>0.074441</td>\n",
              "      <td>0.124308</td>\n",
              "      <td>-0.037937</td>\n",
              "      <td>-0.089271</td>\n",
              "      <td>0.012489</td>\n",
              "      <td>-0.036005</td>\n",
              "      <td>-0.023984</td>\n",
              "      <td>-0.010576</td>\n",
              "      <td>...</td>\n",
              "      <td>-0.081554</td>\n",
              "      <td>0.121891</td>\n",
              "      <td>0.042131</td>\n",
              "      <td>-0.019572</td>\n",
              "      <td>-0.095350</td>\n",
              "      <td>0.087392</td>\n",
              "      <td>0.007523</td>\n",
              "      <td>0.030705</td>\n",
              "      <td>0.086901</td>\n",
              "      <td>0.031186</td>\n",
              "    </tr>\n",
              "    <tr>\n",
              "      <th>483</th>\n",
              "      <td>0.030733</td>\n",
              "      <td>0.060249</td>\n",
              "      <td>0.099119</td>\n",
              "      <td>0.087801</td>\n",
              "      <td>-0.035729</td>\n",
              "      <td>-0.152115</td>\n",
              "      <td>0.032606</td>\n",
              "      <td>0.024821</td>\n",
              "      <td>0.032655</td>\n",
              "      <td>0.053826</td>\n",
              "      <td>...</td>\n",
              "      <td>0.039644</td>\n",
              "      <td>0.094773</td>\n",
              "      <td>-0.043471</td>\n",
              "      <td>-0.177032</td>\n",
              "      <td>-0.091252</td>\n",
              "      <td>0.031182</td>\n",
              "      <td>-0.034731</td>\n",
              "      <td>0.004988</td>\n",
              "      <td>0.143666</td>\n",
              "      <td>-0.012354</td>\n",
              "    </tr>\n",
              "    <tr>\n",
              "      <th>484</th>\n",
              "      <td>0.012062</td>\n",
              "      <td>0.068691</td>\n",
              "      <td>0.051343</td>\n",
              "      <td>0.049753</td>\n",
              "      <td>0.006491</td>\n",
              "      <td>-0.107100</td>\n",
              "      <td>0.076212</td>\n",
              "      <td>0.004650</td>\n",
              "      <td>0.113739</td>\n",
              "      <td>0.004015</td>\n",
              "      <td>...</td>\n",
              "      <td>-0.028502</td>\n",
              "      <td>0.123084</td>\n",
              "      <td>0.046536</td>\n",
              "      <td>-0.053508</td>\n",
              "      <td>-0.025445</td>\n",
              "      <td>0.062129</td>\n",
              "      <td>-0.034741</td>\n",
              "      <td>0.042223</td>\n",
              "      <td>-0.024982</td>\n",
              "      <td>0.132500</td>\n",
              "    </tr>\n",
              "  </tbody>\n",
              "</table>\n",
              "<p>5 rows × 768 columns</p>\n",
              "</div>"
            ],
            "text/plain": [
              "     feature_1  feature_2  feature_3  feature_4  feature_5  feature_6  \\\n",
              "480  -0.037427   0.068284  -0.100538   0.076783  -0.113147  -0.079453   \n",
              "481   0.024931   0.045966   0.016385   0.028214  -0.092396  -0.053490   \n",
              "482   0.025077   0.082511   0.074441   0.124308  -0.037937  -0.089271   \n",
              "483   0.030733   0.060249   0.099119   0.087801  -0.035729  -0.152115   \n",
              "484   0.012062   0.068691   0.051343   0.049753   0.006491  -0.107100   \n",
              "\n",
              "     feature_7  feature_8  feature_9  feature_10  ...  feature_759  \\\n",
              "480   0.106947   0.011906  -0.047519    0.022915  ...     0.061858   \n",
              "481  -0.018101   0.053902   0.080196    0.010693  ...     0.048435   \n",
              "482   0.012489  -0.036005  -0.023984   -0.010576  ...    -0.081554   \n",
              "483   0.032606   0.024821   0.032655    0.053826  ...     0.039644   \n",
              "484   0.076212   0.004650   0.113739    0.004015  ...    -0.028502   \n",
              "\n",
              "     feature_760  feature_761  feature_762  feature_763  feature_764  \\\n",
              "480     0.086089     0.004285    -0.325560    -0.035784     0.033521   \n",
              "481     0.127840     0.060487    -0.268356    -0.001359     0.019178   \n",
              "482     0.121891     0.042131    -0.019572    -0.095350     0.087392   \n",
              "483     0.094773    -0.043471    -0.177032    -0.091252     0.031182   \n",
              "484     0.123084     0.046536    -0.053508    -0.025445     0.062129   \n",
              "\n",
              "     feature_765  feature_766  feature_767  feature_768  \n",
              "480    -0.025551     0.083790    -0.027678    -0.008546  \n",
              "481     0.068597     0.066214     0.141953     0.075839  \n",
              "482     0.007523     0.030705     0.086901     0.031186  \n",
              "483    -0.034731     0.004988     0.143666    -0.012354  \n",
              "484    -0.034741     0.042223    -0.024982     0.132500  \n",
              "\n",
              "[5 rows x 768 columns]"
            ]
          },
          "execution_count": 29,
          "metadata": {},
          "output_type": "execute_result"
        }
      ],
      "source": [
        "train_features['label_2'].head()"
      ]
    },
    {
      "cell_type": "code",
      "execution_count": 30,
      "metadata": {},
      "outputs": [
        {
          "name": "stderr",
          "output_type": "stream",
          "text": [
            "d:\\Applications\\Mambaforge\\envs\\env_gpu\\lib\\site-packages\\seaborn\\_oldcore.py:1498: FutureWarning: is_categorical_dtype is deprecated and will be removed in a future version. Use isinstance(dtype, CategoricalDtype) instead\n",
            "  if pd.api.types.is_categorical_dtype(vector):\n",
            "d:\\Applications\\Mambaforge\\envs\\env_gpu\\lib\\site-packages\\seaborn\\_oldcore.py:1498: FutureWarning: is_categorical_dtype is deprecated and will be removed in a future version. Use isinstance(dtype, CategoricalDtype) instead\n",
            "  if pd.api.types.is_categorical_dtype(vector):\n",
            "d:\\Applications\\Mambaforge\\envs\\env_gpu\\lib\\site-packages\\seaborn\\_oldcore.py:1498: FutureWarning: is_categorical_dtype is deprecated and will be removed in a future version. Use isinstance(dtype, CategoricalDtype) instead\n",
            "  if pd.api.types.is_categorical_dtype(vector):\n"
          ]
        },
        {
          "data": {
            "text/plain": [
              "<Axes: xlabel='label_2', ylabel='count'>"
            ]
          },
          "execution_count": 30,
          "metadata": {},
          "output_type": "execute_result"
        },
        {
          "data": {
            "image/png": "[encoded data removed]",
            "text/plain": [
              "<Figure size 1800x600 with 1 Axes>"
            ]
          },
          "metadata": {},
          "output_type": "display_data"
        }
      ],
      "source": [
        "plt.figure(figsize=(18, 6))\n",
        "sn.countplot(data=train_label, x='label_2', color='purple')"
      ]
    },
    {
      "cell_type": "markdown",
      "metadata": {},
      "source": [
        "## Before Feature Engineering"
      ]
    },
    {
      "cell_type": "code",
      "execution_count": 31,
      "metadata": {},
      "outputs": [
        {
          "name": "stdout",
          "output_type": "stream",
          "text": [
            "svm Accuracy Score for label_2 = 82.34%\n"
          ]
        },
        {
          "data": {
            "text/plain": [
              "0.8233695652173914"
            ]
          },
          "execution_count": 31,
          "metadata": {},
          "output_type": "execute_result"
        }
      ],
      "source": [
        "classify(models[0], 'label_2', train_features, valid_features, train_label, valid_label)"
      ]
    },
    {
      "cell_type": "code",
      "execution_count": 32,
      "metadata": {},
      "outputs": [
        {
          "name": "stdout",
          "output_type": "stream",
          "text": [
            "rfc Accuracy Score for label_2 = 75.14%\n"
          ]
        },
        {
          "data": {
            "text/plain": [
              "0.751358695652174"
            ]
          },
          "execution_count": 32,
          "metadata": {},
          "output_type": "execute_result"
        }
      ],
      "source": [
        "classify(models[1], 'label_2', train_features, valid_features, train_label, valid_label)"
      ]
    },
    {
      "cell_type": "code",
      "execution_count": 33,
      "metadata": {},
      "outputs": [
        {
          "name": "stdout",
          "output_type": "stream",
          "text": [
            "knn Accuracy Score for label_2 = 92.12%\n"
          ]
        },
        {
          "data": {
            "text/plain": [
              "0.9211956521739131"
            ]
          },
          "execution_count": 33,
          "metadata": {},
          "output_type": "execute_result"
        }
      ],
      "source": [
        "classify(models[4], 'label_2', train_features, valid_features, train_label, valid_label)"
      ]
    },
    {
      "cell_type": "markdown",
      "metadata": {},
      "source": [
        "## Feature Engineering"
      ]
    },
    {
      "cell_type": "markdown",
      "metadata": {},
      "source": [
        "### Standardization"
      ]
    },
    {
      "cell_type": "code",
      "execution_count": 34,
      "metadata": {},
      "outputs": [],
      "source": [
        "# scaler = RobustScaler()\n",
        "scaler = StandardScaler()\n",
        "\n",
        "# Fit and transform the training data\n",
        "train_standardized = scaler.fit_transform(train_features['label_2'])\n",
        "\n",
        "# Transform the validation data using the same scaler\n",
        "valid_standardized = scaler.transform(valid_features['label_2'])\n",
        "\n",
        "# Transform the test data using the same scaler\n",
        "test_standardized = scaler.transform(test_)"
      ]
    },
    {
      "cell_type": "markdown",
      "metadata": {},
      "source": [
        "### PCA"
      ]
    },
    {
      "cell_type": "code",
      "execution_count": 35,
      "metadata": {},
      "outputs": [
        {
          "name": "stdout",
          "output_type": "stream",
          "text": [
            "Number of componenets for train data: 350\n"
          ]
        }
      ],
      "source": [
        "threshold = 0.96\n",
        "pca = PCA(threshold, svd_solver='full')\n",
        "\n",
        "\n",
        "pca_train['label_2'] = pca.fit_transform(train_standardized)\n",
        "pca_valid['label_2'] = pca.transform(valid_standardized)\n",
        "pca_test['label_2'] = pca.transform(test_standardized)\n",
        "\n",
        "explained_variance = pca.explained_variance_ratio_\n",
        "\n",
        "retained_features_len = len(explained_variance)\n",
        "print(\"Number of componenets for train data:\", retained_features_len)"
      ]
    },
    {
      "cell_type": "code",
      "execution_count": 36,
      "metadata": {},
      "outputs": [
        {
          "name": "stdout",
          "output_type": "stream",
          "text": [
            "svm Accuracy Score for label_2 = 80.57%\n"
          ]
        },
        {
          "data": {
            "text/plain": [
              "0.8057065217391305"
            ]
          },
          "execution_count": 36,
          "metadata": {},
          "output_type": "execute_result"
        }
      ],
      "source": [
        "classify(models[0], 'label_2', pca_train, pca_valid, train_label, valid_label)"
      ]
    },
    {
      "cell_type": "code",
      "execution_count": 37,
      "metadata": {},
      "outputs": [
        {
          "name": "stdout",
          "output_type": "stream",
          "text": [
            "rfc Accuracy Score for label_2 = 63.32%\n"
          ]
        },
        {
          "data": {
            "text/plain": [
              "0.6331521739130435"
            ]
          },
          "execution_count": 37,
          "metadata": {},
          "output_type": "execute_result"
        }
      ],
      "source": [
        "classify(models[1], 'label_2', pca_train, pca_valid, train_label, valid_label)"
      ]
    },
    {
      "cell_type": "code",
      "execution_count": 38,
      "metadata": {},
      "outputs": [
        {
          "name": "stdout",
          "output_type": "stream",
          "text": [
            "knn Accuracy Score for label_2 = 89.13%\n"
          ]
        },
        {
          "data": {
            "text/plain": [
              "0.8913043478260869"
            ]
          },
          "execution_count": 38,
          "metadata": {},
          "output_type": "execute_result"
        }
      ],
      "source": [
        "classify(models[4], 'label_2', pca_train, pca_valid, train_label, valid_label) "
      ]
    },
    {
      "cell_type": "markdown",
      "metadata": {},
      "source": [
        "## Hyperparameter Tuning"
      ]
    },
    {
      "cell_type": "code",
      "execution_count": 48,
      "metadata": {},
      "outputs": [],
      "source": [
        "X_train = pca_train['label_2']\n",
        "X_valid = pca_valid['label_2']\n",
        "y_train = train_label['label_2']\n",
        "y_valid = valid_label['label_2']"
      ]
    },
    {
      "cell_type": "code",
      "execution_count": 40,
      "metadata": {},
      "outputs": [
        {
          "name": "stdout",
          "output_type": "stream",
          "text": [
            "Fitting 2 folds for each of 5 candidates, totalling 10 fits\n"
          ]
        },
        {
          "name": "stdout",
          "output_type": "stream",
          "text": [
            "Best Model: SVC(C=0.1, class_weight='balanced', gamma=1.0, kernel='poly')\n",
            "Best Accuracy: 26.62%\n",
            "Best Hyperparameters: {'kernel': 'poly', 'gamma': 1.0, 'class_weight': 'balanced', 'C': 0.1}\n"
          ]
        }
      ],
      "source": [
        "param_distributions = {\n",
        "    'C': np.logspace(-3, 3, 7),\n",
        "    'kernel': ['linear', 'rbf', 'poly'],\n",
        "    'gamma': np.logspace(-3, 3, 7),\n",
        "    'class_weight': ['balanced']\n",
        "}\n",
        "\n",
        "# Create an instance of the classifier\n",
        "classifier = SVC()\n",
        "\n",
        "# Call the function to perform random search and get the best accuracy and hyperparameters\n",
        "best_model, best_accuracy, best_hyperparameters = random_grid_search_classifier(\n",
        "    classifier, \n",
        "    X_train, \n",
        "    y_train,\n",
        "    param_distributions)\n",
        "\n",
        "print(\"Best Model:\", best_model)\n",
        "print(\"Best Accuracy: %.2f%%\" % (best_accuracy * 100))\n",
        "print(\"Best Hyperparameters:\", best_hyperparameters)"
      ]
    },
    {
      "cell_type": "code",
      "execution_count": 49,
      "metadata": {},
      "outputs": [],
      "source": [
        "best_models['label_2'] = best_model"
      ]
    },
    {
      "cell_type": "code",
      "execution_count": 50,
      "metadata": {},
      "outputs": [
        {
          "name": "stdout",
          "output_type": "stream",
          "text": [
            "Accuracy: 93.48%\n"
          ]
        }
      ],
      "source": [
        "accuracy = get_classifier_predictions(best_models['label_2'], X_valid, y_valid)\n",
        "\n",
        "print(\"Accuracy: %.2f%%\" % (accuracy * 100.0))"
      ]
    },
    {
      "cell_type": "code",
      "execution_count": 51,
      "metadata": {},
      "outputs": [
        {
          "name": "stdout",
          "output_type": "stream",
          "text": [
            "Cross-Validation Scores: [0.45827389 0.69561341 0.71968616 0.72628388 0.50499287]\n",
            "Mean Score: 0.6209700427960058\n",
            "Standard Deviation: 0.11517660418375814\n"
          ]
        }
      ],
      "source": [
        "classifier = SVC(**best_hyperparameters)\n",
        "\n",
        "k_fold_cross_validation(classifier, 5, X_train, y_train)"
      ]
    },
    {
      "cell_type": "markdown",
      "metadata": {},
      "source": [
        "# Label 3"
      ]
    },
    {
      "cell_type": "code",
      "execution_count": 52,
      "metadata": {},
      "outputs": [
        {
          "data": {
            "text/html": [
              "<div>\n",
              "<style scoped>\n",
              "    .dataframe tbody tr th:only-of-type {\n",
              "        vertical-align: middle;\n",
              "    }\n",
              "\n",
              "    .dataframe tbody tr th {\n",
              "        vertical-align: top;\n",
              "    }\n",
              "\n",
              "    .dataframe thead th {\n",
              "        text-align: right;\n",
              "    }\n",
              "</style>\n",
              "<table border=\"1\" class=\"dataframe\">\n",
              "  <thead>\n",
              "    <tr style=\"text-align: right;\">\n",
              "      <th></th>\n",
              "      <th>feature_1</th>\n",
              "      <th>feature_2</th>\n",
              "      <th>feature_3</th>\n",
              "      <th>feature_4</th>\n",
              "      <th>feature_5</th>\n",
              "      <th>feature_6</th>\n",
              "      <th>feature_7</th>\n",
              "      <th>feature_8</th>\n",
              "      <th>feature_9</th>\n",
              "      <th>feature_10</th>\n",
              "      <th>...</th>\n",
              "      <th>feature_759</th>\n",
              "      <th>feature_760</th>\n",
              "      <th>feature_761</th>\n",
              "      <th>feature_762</th>\n",
              "      <th>feature_763</th>\n",
              "      <th>feature_764</th>\n",
              "      <th>feature_765</th>\n",
              "      <th>feature_766</th>\n",
              "      <th>feature_767</th>\n",
              "      <th>feature_768</th>\n",
              "    </tr>\n",
              "  </thead>\n",
              "  <tbody>\n",
              "    <tr>\n",
              "      <th>0</th>\n",
              "      <td>0.019301</td>\n",
              "      <td>0.059756</td>\n",
              "      <td>0.081375</td>\n",
              "      <td>0.057481</td>\n",
              "      <td>-0.068440</td>\n",
              "      <td>-0.165913</td>\n",
              "      <td>0.035643</td>\n",
              "      <td>-0.091138</td>\n",
              "      <td>0.021688</td>\n",
              "      <td>0.057158</td>\n",
              "      <td>...</td>\n",
              "      <td>-0.108481</td>\n",
              "      <td>0.124449</td>\n",
              "      <td>0.124765</td>\n",
              "      <td>-0.235671</td>\n",
              "      <td>-0.035576</td>\n",
              "      <td>0.127319</td>\n",
              "      <td>0.098128</td>\n",
              "      <td>-0.058787</td>\n",
              "      <td>0.100971</td>\n",
              "      <td>-0.047754</td>\n",
              "    </tr>\n",
              "    <tr>\n",
              "      <th>1</th>\n",
              "      <td>0.049741</td>\n",
              "      <td>0.090030</td>\n",
              "      <td>0.035118</td>\n",
              "      <td>-0.013676</td>\n",
              "      <td>-0.194317</td>\n",
              "      <td>-0.101763</td>\n",
              "      <td>0.085875</td>\n",
              "      <td>-0.081317</td>\n",
              "      <td>0.112418</td>\n",
              "      <td>0.120523</td>\n",
              "      <td>...</td>\n",
              "      <td>-0.025115</td>\n",
              "      <td>0.186260</td>\n",
              "      <td>0.085101</td>\n",
              "      <td>-0.365903</td>\n",
              "      <td>0.020538</td>\n",
              "      <td>0.058968</td>\n",
              "      <td>0.029803</td>\n",
              "      <td>0.111324</td>\n",
              "      <td>0.036727</td>\n",
              "      <td>0.031927</td>\n",
              "    </tr>\n",
              "    <tr>\n",
              "      <th>2</th>\n",
              "      <td>0.019212</td>\n",
              "      <td>0.087779</td>\n",
              "      <td>0.093907</td>\n",
              "      <td>-0.033738</td>\n",
              "      <td>-0.141409</td>\n",
              "      <td>-0.062881</td>\n",
              "      <td>-0.071402</td>\n",
              "      <td>-0.006599</td>\n",
              "      <td>0.020372</td>\n",
              "      <td>-0.027777</td>\n",
              "      <td>...</td>\n",
              "      <td>-0.058567</td>\n",
              "      <td>0.019542</td>\n",
              "      <td>0.144256</td>\n",
              "      <td>-0.123374</td>\n",
              "      <td>0.119645</td>\n",
              "      <td>-0.040861</td>\n",
              "      <td>0.000548</td>\n",
              "      <td>-0.061003</td>\n",
              "      <td>-0.042450</td>\n",
              "      <td>0.063340</td>\n",
              "    </tr>\n",
              "    <tr>\n",
              "      <th>3</th>\n",
              "      <td>0.070283</td>\n",
              "      <td>0.049040</td>\n",
              "      <td>0.042126</td>\n",
              "      <td>0.122637</td>\n",
              "      <td>-0.056964</td>\n",
              "      <td>-0.113700</td>\n",
              "      <td>0.108454</td>\n",
              "      <td>0.051336</td>\n",
              "      <td>0.086610</td>\n",
              "      <td>0.141578</td>\n",
              "      <td>...</td>\n",
              "      <td>-0.124006</td>\n",
              "      <td>0.117235</td>\n",
              "      <td>-0.038984</td>\n",
              "      <td>-0.028714</td>\n",
              "      <td>-0.124494</td>\n",
              "      <td>-0.169225</td>\n",
              "      <td>-0.046391</td>\n",
              "      <td>0.148787</td>\n",
              "      <td>0.014616</td>\n",
              "      <td>-0.140644</td>\n",
              "    </tr>\n",
              "    <tr>\n",
              "      <th>4</th>\n",
              "      <td>0.028864</td>\n",
              "      <td>0.165634</td>\n",
              "      <td>0.016302</td>\n",
              "      <td>0.036117</td>\n",
              "      <td>-0.028871</td>\n",
              "      <td>-0.147748</td>\n",
              "      <td>0.053180</td>\n",
              "      <td>0.025071</td>\n",
              "      <td>-0.004200</td>\n",
              "      <td>-0.022183</td>\n",
              "      <td>...</td>\n",
              "      <td>-0.112267</td>\n",
              "      <td>0.029716</td>\n",
              "      <td>0.077643</td>\n",
              "      <td>-0.182132</td>\n",
              "      <td>-0.124862</td>\n",
              "      <td>0.044907</td>\n",
              "      <td>0.084005</td>\n",
              "      <td>-0.038450</td>\n",
              "      <td>0.084371</td>\n",
              "      <td>-0.072146</td>\n",
              "    </tr>\n",
              "  </tbody>\n",
              "</table>\n",
              "<p>5 rows × 768 columns</p>\n",
              "</div>"
            ],
            "text/plain": [
              "   feature_1  feature_2  feature_3  feature_4  feature_5  feature_6  \\\n",
              "0   0.019301   0.059756   0.081375   0.057481  -0.068440  -0.165913   \n",
              "1   0.049741   0.090030   0.035118  -0.013676  -0.194317  -0.101763   \n",
              "2   0.019212   0.087779   0.093907  -0.033738  -0.141409  -0.062881   \n",
              "3   0.070283   0.049040   0.042126   0.122637  -0.056964  -0.113700   \n",
              "4   0.028864   0.165634   0.016302   0.036117  -0.028871  -0.147748   \n",
              "\n",
              "   feature_7  feature_8  feature_9  feature_10  ...  feature_759  feature_760  \\\n",
              "0   0.035643  -0.091138   0.021688    0.057158  ...    -0.108481     0.124449   \n",
              "1   0.085875  -0.081317   0.112418    0.120523  ...    -0.025115     0.186260   \n",
              "2  -0.071402  -0.006599   0.020372   -0.027777  ...    -0.058567     0.019542   \n",
              "3   0.108454   0.051336   0.086610    0.141578  ...    -0.124006     0.117235   \n",
              "4   0.053180   0.025071  -0.004200   -0.022183  ...    -0.112267     0.029716   \n",
              "\n",
              "   feature_761  feature_762  feature_763  feature_764  feature_765  \\\n",
              "0     0.124765    -0.235671    -0.035576     0.127319     0.098128   \n",
              "1     0.085101    -0.365903     0.020538     0.058968     0.029803   \n",
              "2     0.144256    -0.123374     0.119645    -0.040861     0.000548   \n",
              "3    -0.038984    -0.028714    -0.124494    -0.169225    -0.046391   \n",
              "4     0.077643    -0.182132    -0.124862     0.044907     0.084005   \n",
              "\n",
              "   feature_766  feature_767  feature_768  \n",
              "0    -0.058787     0.100971    -0.047754  \n",
              "1     0.111324     0.036727     0.031927  \n",
              "2    -0.061003    -0.042450     0.063340  \n",
              "3     0.148787     0.014616    -0.140644  \n",
              "4    -0.038450     0.084371    -0.072146  \n",
              "\n",
              "[5 rows x 768 columns]"
            ]
          },
          "execution_count": 52,
          "metadata": {},
          "output_type": "execute_result"
        }
      ],
      "source": [
        "train_features['label_3'].head()"
      ]
    },
    {
      "cell_type": "code",
      "execution_count": 53,
      "metadata": {},
      "outputs": [
        {
          "name": "stderr",
          "output_type": "stream",
          "text": [
            "d:\\Applications\\Mambaforge\\envs\\env_gpu\\lib\\site-packages\\seaborn\\_oldcore.py:1498: FutureWarning: is_categorical_dtype is deprecated and will be removed in a future version. Use isinstance(dtype, CategoricalDtype) instead\n",
            "  if pd.api.types.is_categorical_dtype(vector):\n",
            "d:\\Applications\\Mambaforge\\envs\\env_gpu\\lib\\site-packages\\seaborn\\_oldcore.py:1498: FutureWarning: is_categorical_dtype is deprecated and will be removed in a future version. Use isinstance(dtype, CategoricalDtype) instead\n",
            "  if pd.api.types.is_categorical_dtype(vector):\n",
            "d:\\Applications\\Mambaforge\\envs\\env_gpu\\lib\\site-packages\\seaborn\\_oldcore.py:1498: FutureWarning: is_categorical_dtype is deprecated and will be removed in a future version. Use isinstance(dtype, CategoricalDtype) instead\n",
            "  if pd.api.types.is_categorical_dtype(vector):\n"
          ]
        },
        {
          "data": {
            "image/png": "[encoded data removed]",
            "text/plain": [
              "<Figure size 640x480 with 1 Axes>"
            ]
          },
          "metadata": {},
          "output_type": "display_data"
        }
      ],
      "source": [
        "x = sn.countplot(x='label_3', data=train_label)\n",
        "\n",
        "for p in x.patches:\n",
        "    x.annotate(f'{p.get_height()}', (p.get_x() + p.get_width() / 2., p.get_height()),\n",
        "                ha='center', va='bottom', fontsize=9, color='black')"
      ]
    },
    {
      "cell_type": "code",
      "execution_count": 54,
      "metadata": {},
      "outputs": [],
      "source": [
        "sampler = RandomOverSampler(random_state=0, sampling_strategy=0.80)\n",
        "\n",
        "ros_train_features = {}\n",
        "ros_train_label = {}\n",
        "\n",
        "ros_train_features['label_3'], ros_train_label['label_3'] = sampler.fit_resample(train_features['label_3'], train_label['label_3'])"
      ]
    },
    {
      "cell_type": "code",
      "execution_count": 55,
      "metadata": {},
      "outputs": [
        {
          "name": "stderr",
          "output_type": "stream",
          "text": [
            "d:\\Applications\\Mambaforge\\envs\\env_gpu\\lib\\site-packages\\seaborn\\_oldcore.py:1498: FutureWarning: is_categorical_dtype is deprecated and will be removed in a future version. Use isinstance(dtype, CategoricalDtype) instead\n",
            "  if pd.api.types.is_categorical_dtype(vector):\n",
            "d:\\Applications\\Mambaforge\\envs\\env_gpu\\lib\\site-packages\\seaborn\\_oldcore.py:1498: FutureWarning: is_categorical_dtype is deprecated and will be removed in a future version. Use isinstance(dtype, CategoricalDtype) instead\n",
            "  if pd.api.types.is_categorical_dtype(vector):\n",
            "d:\\Applications\\Mambaforge\\envs\\env_gpu\\lib\\site-packages\\seaborn\\_oldcore.py:1498: FutureWarning: is_categorical_dtype is deprecated and will be removed in a future version. Use isinstance(dtype, CategoricalDtype) instead\n",
            "  if pd.api.types.is_categorical_dtype(vector):\n"
          ]
        },
        {
          "data": {
            "image/png": "[encoded data removed]",
            "text/plain": [
              "<Figure size 640x480 with 1 Axes>"
            ]
          },
          "metadata": {},
          "output_type": "display_data"
        }
      ],
      "source": [
        "x = sn.countplot(x='label_3', data=ros_train_label)\n",
        "\n",
        "for p in x.patches:\n",
        "    x.annotate(f'{p.get_height()}', (p.get_x() + p.get_width() / 2., p.get_height()),\n",
        "                ha='center', va='bottom', fontsize=9, color='black')"
      ]
    },
    {
      "cell_type": "markdown",
      "metadata": {},
      "source": [
        "## Before Feature Engineering"
      ]
    },
    {
      "cell_type": "code",
      "execution_count": 56,
      "metadata": {},
      "outputs": [
        {
          "name": "stdout",
          "output_type": "stream",
          "text": [
            "svm Accuracy Score for label_3 = 99.33%\n"
          ]
        },
        {
          "data": {
            "text/plain": [
              "0.9933333333333333"
            ]
          },
          "execution_count": 56,
          "metadata": {},
          "output_type": "execute_result"
        }
      ],
      "source": [
        "classify(models[0], 'label_3', train_features, valid_features, train_label, valid_label)"
      ]
    },
    {
      "cell_type": "code",
      "execution_count": 57,
      "metadata": {},
      "outputs": [
        {
          "name": "stdout",
          "output_type": "stream",
          "text": [
            "lr Accuracy Score for label_3 = 99.20%\n"
          ]
        },
        {
          "data": {
            "text/plain": [
              "0.992"
            ]
          },
          "execution_count": 57,
          "metadata": {},
          "output_type": "execute_result"
        }
      ],
      "source": [
        "classify(models[2], 'label_3', train_features, valid_features, train_label, valid_label)"
      ]
    },
    {
      "cell_type": "code",
      "execution_count": 58,
      "metadata": {},
      "outputs": [
        {
          "name": "stdout",
          "output_type": "stream",
          "text": [
            "knn Accuracy Score for label_3 = 99.07%\n"
          ]
        },
        {
          "data": {
            "text/plain": [
              "0.9906666666666667"
            ]
          },
          "execution_count": 58,
          "metadata": {},
          "output_type": "execute_result"
        }
      ],
      "source": [
        "classify(models[4], 'label_3', ros_train_features, valid_features, ros_train_label, valid_label)"
      ]
    },
    {
      "cell_type": "markdown",
      "metadata": {},
      "source": [
        "## Feature Engineering"
      ]
    },
    {
      "cell_type": "markdown",
      "metadata": {},
      "source": [
        "### Standardization"
      ]
    },
    {
      "cell_type": "code",
      "execution_count": 59,
      "metadata": {},
      "outputs": [],
      "source": [
        "# scaler = RobustScaler()\n",
        "scaler = StandardScaler()\n",
        "\n",
        "# Fit and transform the training data\n",
        "train_standardized = scaler.fit_transform(train_features['label_3'])\n",
        "\n",
        "# Transform the validation data using the same scaler\n",
        "valid_standardized = scaler.transform(valid_features['label_3'])\n",
        "\n",
        "# Transform the test data using the same scaler\n",
        "test_standardized = scaler.transform(test_)"
      ]
    },
    {
      "cell_type": "code",
      "execution_count": 60,
      "metadata": {},
      "outputs": [],
      "source": [
        "# standardize the random oversampled data\n",
        "scaler = RobustScaler()\n",
        "\n",
        "ros_train_standardized = scaler.fit_transform(ros_train_features['label_3'])\n",
        "ros_valid_standardized = scaler.transform(valid_features['label_3'])\n",
        "ros_test_standardized = scaler.transform(test_)"
      ]
    },
    {
      "cell_type": "markdown",
      "metadata": {},
      "source": [
        "### PCA"
      ]
    },
    {
      "cell_type": "code",
      "execution_count": 61,
      "metadata": {},
      "outputs": [
        {
          "name": "stdout",
          "output_type": "stream",
          "text": [
            "Number of componenets for train data: 350\n"
          ]
        }
      ],
      "source": [
        "threshold = 0.96\n",
        "pca = PCA(threshold, svd_solver='full')\n",
        "\n",
        "\n",
        "pca_train['label_3'] = pca.fit_transform(train_standardized)\n",
        "pca_valid['label_3'] = pca.transform(valid_standardized)\n",
        "pca_test['label_3'] = pca.transform(test_standardized)\n",
        "\n",
        "explained_variance = pca.explained_variance_ratio_\n",
        "\n",
        "retained_features_len = len(explained_variance)\n",
        "print(\"Number of componenets for train data:\", retained_features_len)"
      ]
    },
    {
      "cell_type": "code",
      "execution_count": 62,
      "metadata": {},
      "outputs": [
        {
          "name": "stdout",
          "output_type": "stream",
          "text": [
            "Number of componenets for oversampled train data: 343\n"
          ]
        }
      ],
      "source": [
        "# PCA with oversampled data\n",
        "pca = PCA(threshold, svd_solver='full')\n",
        "\n",
        "pca_ros_train = {}\n",
        "pca_ros_valid = {}\n",
        "pca_ros_test = {}\n",
        "\n",
        "pca_ros_train['label_3'] = pca.fit_transform(ros_train_standardized)\n",
        "pca_ros_valid['label_3'] = pca.transform(ros_valid_standardized)\n",
        "pca_ros_test['label_3'] = pca.transform(ros_test_standardized)\n",
        "\n",
        "explained_variance = pca.explained_variance_ratio_\n",
        "\n",
        "retained_features_len = len(explained_variance)\n",
        "print(\"Number of componenets for oversampled train data:\", retained_features_len)"
      ]
    },
    {
      "cell_type": "code",
      "execution_count": 63,
      "metadata": {},
      "outputs": [
        {
          "name": "stdout",
          "output_type": "stream",
          "text": [
            "svm Accuracy Score for label_3 = 99.60%\n"
          ]
        },
        {
          "data": {
            "text/plain": [
              "0.996"
            ]
          },
          "execution_count": 63,
          "metadata": {},
          "output_type": "execute_result"
        }
      ],
      "source": [
        "classify(models[0], 'label_3', pca_train, pca_valid, train_label, valid_label)"
      ]
    },
    {
      "cell_type": "code",
      "execution_count": 64,
      "metadata": {},
      "outputs": [
        {
          "name": "stdout",
          "output_type": "stream",
          "text": [
            "lr Accuracy Score for label_3 = 99.47%\n"
          ]
        },
        {
          "data": {
            "text/plain": [
              "0.9946666666666667"
            ]
          },
          "execution_count": 64,
          "metadata": {},
          "output_type": "execute_result"
        }
      ],
      "source": [
        "classify(models[2], 'label_3', pca_train, pca_valid, train_label, valid_label)"
      ]
    },
    {
      "cell_type": "code",
      "execution_count": 65,
      "metadata": {},
      "outputs": [
        {
          "name": "stdout",
          "output_type": "stream",
          "text": [
            "knn Accuracy Score for label_3 = 98.80%\n"
          ]
        },
        {
          "data": {
            "text/plain": [
              "0.988"
            ]
          },
          "execution_count": 65,
          "metadata": {},
          "output_type": "execute_result"
        }
      ],
      "source": [
        "classify(models[4], 'label_3', pca_ros_train, pca_ros_valid, ros_train_label, valid_label)"
      ]
    },
    {
      "cell_type": "markdown",
      "metadata": {},
      "source": [
        "## Hyperparameter Tuning"
      ]
    },
    {
      "cell_type": "code",
      "execution_count": 66,
      "metadata": {},
      "outputs": [],
      "source": [
        "X_train = pca_train['label_3']\n",
        "X_valid = pca_valid['label_3']\n",
        "y_train = train_label['label_3']\n",
        "y_valid = valid_label['label_3']"
      ]
    },
    {
      "cell_type": "code",
      "execution_count": 67,
      "metadata": {},
      "outputs": [
        {
          "name": "stdout",
          "output_type": "stream",
          "text": [
            "Fitting 2 folds for each of 5 candidates, totalling 10 fits\n"
          ]
        },
        {
          "name": "stdout",
          "output_type": "stream",
          "text": [
            "Best Model: SVC(C=1000.0, class_weight='balanced', gamma=0.01, kernel='linear')\n",
            "Best Accuracy: 96.65%\n",
            "Best Hyperparameters: {'kernel': 'linear', 'gamma': 0.01, 'class_weight': 'balanced', 'C': 1000.0}\n"
          ]
        }
      ],
      "source": [
        "param_distributions = {\n",
        "    'C': np.logspace(-3, 3, 7),\n",
        "    'kernel': ['linear', 'rbf', 'poly'],\n",
        "    'gamma': np.logspace(-3, 3, 7),\n",
        "    'class_weight': ['balanced']\n",
        "}\n",
        "\n",
        "# Create an instance of the classifier\n",
        "classifier = SVC()\n",
        "\n",
        "# Call the function to perform random search and get the best accuracy and hyperparameters\n",
        "best_model, best_accuracy, best_hyperparameters = random_grid_search_classifier(\n",
        "    classifier, \n",
        "    X_train, \n",
        "    y_train, \n",
        "    param_distributions)\n",
        "\n",
        "print(\"Best Model:\", best_model)\n",
        "print(\"Best Accuracy: %.2f%%\" % (best_accuracy * 100))\n",
        "print(\"Best Hyperparameters:\", best_hyperparameters)"
      ]
    },
    {
      "cell_type": "code",
      "execution_count": 68,
      "metadata": {},
      "outputs": [],
      "source": [
        "best_models['label_3'] = best_model"
      ]
    },
    {
      "cell_type": "code",
      "execution_count": 69,
      "metadata": {},
      "outputs": [
        {
          "name": "stdout",
          "output_type": "stream",
          "text": [
            "Accuracy: 99.20%\n"
          ]
        }
      ],
      "source": [
        "accuracy = get_classifier_predictions(best_models['label_3'], X_valid, y_valid)\n",
        "print(\"Accuracy: %.2f%%\" % (accuracy * 100.0))"
      ]
    },
    {
      "cell_type": "code",
      "execution_count": 70,
      "metadata": {},
      "outputs": [
        {
          "name": "stdout",
          "output_type": "stream",
          "text": [
            "Cross-Validation Scores: [0.95774895 0.99333801 0.98001403 0.97685835 0.99298738]\n",
            "Mean Score: 0.9801893408134642\n",
            "Standard Deviation: 0.013048943945251341\n"
          ]
        }
      ],
      "source": [
        "classifier = SVC(**best_hyperparameters)\n",
        "\n",
        "k_fold_cross_validation(classifier, 5, X_train, y_train)"
      ]
    },
    {
      "cell_type": "markdown",
      "metadata": {},
      "source": [
        "# Label 4"
      ]
    },
    {
      "cell_type": "code",
      "execution_count": 71,
      "metadata": {},
      "outputs": [
        {
          "data": {
            "text/html": [
              "<div>\n",
              "<style scoped>\n",
              "    .dataframe tbody tr th:only-of-type {\n",
              "        vertical-align: middle;\n",
              "    }\n",
              "\n",
              "    .dataframe tbody tr th {\n",
              "        vertical-align: top;\n",
              "    }\n",
              "\n",
              "    .dataframe thead th {\n",
              "        text-align: right;\n",
              "    }\n",
              "</style>\n",
              "<table border=\"1\" class=\"dataframe\">\n",
              "  <thead>\n",
              "    <tr style=\"text-align: right;\">\n",
              "      <th></th>\n",
              "      <th>feature_1</th>\n",
              "      <th>feature_2</th>\n",
              "      <th>feature_3</th>\n",
              "      <th>feature_4</th>\n",
              "      <th>feature_5</th>\n",
              "      <th>feature_6</th>\n",
              "      <th>feature_7</th>\n",
              "      <th>feature_8</th>\n",
              "      <th>feature_9</th>\n",
              "      <th>feature_10</th>\n",
              "      <th>...</th>\n",
              "      <th>feature_759</th>\n",
              "      <th>feature_760</th>\n",
              "      <th>feature_761</th>\n",
              "      <th>feature_762</th>\n",
              "      <th>feature_763</th>\n",
              "      <th>feature_764</th>\n",
              "      <th>feature_765</th>\n",
              "      <th>feature_766</th>\n",
              "      <th>feature_767</th>\n",
              "      <th>feature_768</th>\n",
              "    </tr>\n",
              "  </thead>\n",
              "  <tbody>\n",
              "    <tr>\n",
              "      <th>0</th>\n",
              "      <td>0.019301</td>\n",
              "      <td>0.059756</td>\n",
              "      <td>0.081375</td>\n",
              "      <td>0.057481</td>\n",
              "      <td>-0.068440</td>\n",
              "      <td>-0.165913</td>\n",
              "      <td>0.035643</td>\n",
              "      <td>-0.091138</td>\n",
              "      <td>0.021688</td>\n",
              "      <td>0.057158</td>\n",
              "      <td>...</td>\n",
              "      <td>-0.108481</td>\n",
              "      <td>0.124449</td>\n",
              "      <td>0.124765</td>\n",
              "      <td>-0.235671</td>\n",
              "      <td>-0.035576</td>\n",
              "      <td>0.127319</td>\n",
              "      <td>0.098128</td>\n",
              "      <td>-0.058787</td>\n",
              "      <td>0.100971</td>\n",
              "      <td>-0.047754</td>\n",
              "    </tr>\n",
              "    <tr>\n",
              "      <th>1</th>\n",
              "      <td>0.049741</td>\n",
              "      <td>0.090030</td>\n",
              "      <td>0.035118</td>\n",
              "      <td>-0.013676</td>\n",
              "      <td>-0.194317</td>\n",
              "      <td>-0.101763</td>\n",
              "      <td>0.085875</td>\n",
              "      <td>-0.081317</td>\n",
              "      <td>0.112418</td>\n",
              "      <td>0.120523</td>\n",
              "      <td>...</td>\n",
              "      <td>-0.025115</td>\n",
              "      <td>0.186260</td>\n",
              "      <td>0.085101</td>\n",
              "      <td>-0.365903</td>\n",
              "      <td>0.020538</td>\n",
              "      <td>0.058968</td>\n",
              "      <td>0.029803</td>\n",
              "      <td>0.111324</td>\n",
              "      <td>0.036727</td>\n",
              "      <td>0.031927</td>\n",
              "    </tr>\n",
              "    <tr>\n",
              "      <th>2</th>\n",
              "      <td>0.019212</td>\n",
              "      <td>0.087779</td>\n",
              "      <td>0.093907</td>\n",
              "      <td>-0.033738</td>\n",
              "      <td>-0.141409</td>\n",
              "      <td>-0.062881</td>\n",
              "      <td>-0.071402</td>\n",
              "      <td>-0.006599</td>\n",
              "      <td>0.020372</td>\n",
              "      <td>-0.027777</td>\n",
              "      <td>...</td>\n",
              "      <td>-0.058567</td>\n",
              "      <td>0.019542</td>\n",
              "      <td>0.144256</td>\n",
              "      <td>-0.123374</td>\n",
              "      <td>0.119645</td>\n",
              "      <td>-0.040861</td>\n",
              "      <td>0.000548</td>\n",
              "      <td>-0.061003</td>\n",
              "      <td>-0.042450</td>\n",
              "      <td>0.063340</td>\n",
              "    </tr>\n",
              "    <tr>\n",
              "      <th>3</th>\n",
              "      <td>0.070283</td>\n",
              "      <td>0.049040</td>\n",
              "      <td>0.042126</td>\n",
              "      <td>0.122637</td>\n",
              "      <td>-0.056964</td>\n",
              "      <td>-0.113700</td>\n",
              "      <td>0.108454</td>\n",
              "      <td>0.051336</td>\n",
              "      <td>0.086610</td>\n",
              "      <td>0.141578</td>\n",
              "      <td>...</td>\n",
              "      <td>-0.124006</td>\n",
              "      <td>0.117235</td>\n",
              "      <td>-0.038984</td>\n",
              "      <td>-0.028714</td>\n",
              "      <td>-0.124494</td>\n",
              "      <td>-0.169225</td>\n",
              "      <td>-0.046391</td>\n",
              "      <td>0.148787</td>\n",
              "      <td>0.014616</td>\n",
              "      <td>-0.140644</td>\n",
              "    </tr>\n",
              "    <tr>\n",
              "      <th>4</th>\n",
              "      <td>0.028864</td>\n",
              "      <td>0.165634</td>\n",
              "      <td>0.016302</td>\n",
              "      <td>0.036117</td>\n",
              "      <td>-0.028871</td>\n",
              "      <td>-0.147748</td>\n",
              "      <td>0.053180</td>\n",
              "      <td>0.025071</td>\n",
              "      <td>-0.004200</td>\n",
              "      <td>-0.022183</td>\n",
              "      <td>...</td>\n",
              "      <td>-0.112267</td>\n",
              "      <td>0.029716</td>\n",
              "      <td>0.077643</td>\n",
              "      <td>-0.182132</td>\n",
              "      <td>-0.124862</td>\n",
              "      <td>0.044907</td>\n",
              "      <td>0.084005</td>\n",
              "      <td>-0.038450</td>\n",
              "      <td>0.084371</td>\n",
              "      <td>-0.072146</td>\n",
              "    </tr>\n",
              "  </tbody>\n",
              "</table>\n",
              "<p>5 rows × 768 columns</p>\n",
              "</div>"
            ],
            "text/plain": [
              "   feature_1  feature_2  feature_3  feature_4  feature_5  feature_6  \\\n",
              "0   0.019301   0.059756   0.081375   0.057481  -0.068440  -0.165913   \n",
              "1   0.049741   0.090030   0.035118  -0.013676  -0.194317  -0.101763   \n",
              "2   0.019212   0.087779   0.093907  -0.033738  -0.141409  -0.062881   \n",
              "3   0.070283   0.049040   0.042126   0.122637  -0.056964  -0.113700   \n",
              "4   0.028864   0.165634   0.016302   0.036117  -0.028871  -0.147748   \n",
              "\n",
              "   feature_7  feature_8  feature_9  feature_10  ...  feature_759  feature_760  \\\n",
              "0   0.035643  -0.091138   0.021688    0.057158  ...    -0.108481     0.124449   \n",
              "1   0.085875  -0.081317   0.112418    0.120523  ...    -0.025115     0.186260   \n",
              "2  -0.071402  -0.006599   0.020372   -0.027777  ...    -0.058567     0.019542   \n",
              "3   0.108454   0.051336   0.086610    0.141578  ...    -0.124006     0.117235   \n",
              "4   0.053180   0.025071  -0.004200   -0.022183  ...    -0.112267     0.029716   \n",
              "\n",
              "   feature_761  feature_762  feature_763  feature_764  feature_765  \\\n",
              "0     0.124765    -0.235671    -0.035576     0.127319     0.098128   \n",
              "1     0.085101    -0.365903     0.020538     0.058968     0.029803   \n",
              "2     0.144256    -0.123374     0.119645    -0.040861     0.000548   \n",
              "3    -0.038984    -0.028714    -0.124494    -0.169225    -0.046391   \n",
              "4     0.077643    -0.182132    -0.124862     0.044907     0.084005   \n",
              "\n",
              "   feature_766  feature_767  feature_768  \n",
              "0    -0.058787     0.100971    -0.047754  \n",
              "1     0.111324     0.036727     0.031927  \n",
              "2    -0.061003    -0.042450     0.063340  \n",
              "3     0.148787     0.014616    -0.140644  \n",
              "4    -0.038450     0.084371    -0.072146  \n",
              "\n",
              "[5 rows x 768 columns]"
            ]
          },
          "execution_count": 71,
          "metadata": {},
          "output_type": "execute_result"
        }
      ],
      "source": [
        "train_features['label_4'].head()"
      ]
    },
    {
      "cell_type": "code",
      "execution_count": 72,
      "metadata": {},
      "outputs": [
        {
          "name": "stderr",
          "output_type": "stream",
          "text": [
            "d:\\Applications\\Mambaforge\\envs\\env_gpu\\lib\\site-packages\\seaborn\\_oldcore.py:1498: FutureWarning: is_categorical_dtype is deprecated and will be removed in a future version. Use isinstance(dtype, CategoricalDtype) instead\n",
            "  if pd.api.types.is_categorical_dtype(vector):\n",
            "d:\\Applications\\Mambaforge\\envs\\env_gpu\\lib\\site-packages\\seaborn\\_oldcore.py:1498: FutureWarning: is_categorical_dtype is deprecated and will be removed in a future version. Use isinstance(dtype, CategoricalDtype) instead\n",
            "  if pd.api.types.is_categorical_dtype(vector):\n",
            "d:\\Applications\\Mambaforge\\envs\\env_gpu\\lib\\site-packages\\seaborn\\_oldcore.py:1498: FutureWarning: is_categorical_dtype is deprecated and will be removed in a future version. Use isinstance(dtype, CategoricalDtype) instead\n",
            "  if pd.api.types.is_categorical_dtype(vector):\n"
          ]
        },
        {
          "data": {
            "text/plain": [
              "<Axes: xlabel='label_4', ylabel='count'>"
            ]
          },
          "execution_count": 72,
          "metadata": {},
          "output_type": "execute_result"
        },
        {
          "data": {
            "image/png": "[encoded data removed]",
            "text/plain": [
              "<Figure size 1800x600 with 1 Axes>"
            ]
          },
          "metadata": {},
          "output_type": "display_data"
        }
      ],
      "source": [
        "plt.figure(figsize=(18, 6))\n",
        "sn.countplot(data=train_label, x='label_4', color='purple')"
      ]
    },
    {
      "cell_type": "code",
      "execution_count": 73,
      "metadata": {},
      "outputs": [],
      "source": [
        "sampler = RandomOverSampler(random_state=0)\n",
        "\n",
        "ros_train_features['label_4'], ros_train_label['label_4'] = sampler.fit_resample(train_features['label_4'], train_label['label_4'])"
      ]
    },
    {
      "cell_type": "code",
      "execution_count": 74,
      "metadata": {},
      "outputs": [
        {
          "name": "stderr",
          "output_type": "stream",
          "text": [
            "d:\\Applications\\Mambaforge\\envs\\env_gpu\\lib\\site-packages\\seaborn\\_oldcore.py:1498: FutureWarning: is_categorical_dtype is deprecated and will be removed in a future version. Use isinstance(dtype, CategoricalDtype) instead\n",
            "  if pd.api.types.is_categorical_dtype(vector):\n",
            "d:\\Applications\\Mambaforge\\envs\\env_gpu\\lib\\site-packages\\seaborn\\_oldcore.py:1498: FutureWarning: is_categorical_dtype is deprecated and will be removed in a future version. Use isinstance(dtype, CategoricalDtype) instead\n",
            "  if pd.api.types.is_categorical_dtype(vector):\n",
            "d:\\Applications\\Mambaforge\\envs\\env_gpu\\lib\\site-packages\\seaborn\\_oldcore.py:1498: FutureWarning: is_categorical_dtype is deprecated and will be removed in a future version. Use isinstance(dtype, CategoricalDtype) instead\n",
            "  if pd.api.types.is_categorical_dtype(vector):\n"
          ]
        },
        {
          "data": {
            "text/plain": [
              "<Axes: xlabel='label_4', ylabel='count'>"
            ]
          },
          "execution_count": 74,
          "metadata": {},
          "output_type": "execute_result"
        },
        {
          "data": {
            "image/png": "[encoded data removed]",
            "text/plain": [
              "<Figure size 1800x600 with 1 Axes>"
            ]
          },
          "metadata": {},
          "output_type": "display_data"
        }
      ],
      "source": [
        "plt.figure(figsize=(18, 6))\n",
        "sn.countplot(data=ros_train_label, x='label_4', color='purple')"
      ]
    },
    {
      "cell_type": "markdown",
      "metadata": {},
      "source": [
        "## Before Feature Engineering"
      ]
    },
    {
      "cell_type": "code",
      "execution_count": 75,
      "metadata": {},
      "outputs": [
        {
          "name": "stdout",
          "output_type": "stream",
          "text": [
            "svm Accuracy Score for label_4 = 88.67%\n"
          ]
        },
        {
          "data": {
            "text/plain": [
              "0.8866666666666667"
            ]
          },
          "execution_count": 75,
          "metadata": {},
          "output_type": "execute_result"
        }
      ],
      "source": [
        "classify(models[0], 'label_4', train_features, valid_features, train_label, valid_label)"
      ]
    },
    {
      "cell_type": "code",
      "execution_count": 76,
      "metadata": {},
      "outputs": [
        {
          "name": "stdout",
          "output_type": "stream",
          "text": [
            "rfc Accuracy Score for label_4 = 74.13%\n"
          ]
        },
        {
          "data": {
            "text/plain": [
              "0.7413333333333333"
            ]
          },
          "execution_count": 76,
          "metadata": {},
          "output_type": "execute_result"
        }
      ],
      "source": [
        "classify(models[1], 'label_4', train_features, valid_features, train_label, valid_label)"
      ]
    },
    {
      "cell_type": "code",
      "execution_count": 77,
      "metadata": {},
      "outputs": [
        {
          "name": "stdout",
          "output_type": "stream",
          "text": [
            "knn Accuracy Score for label_4 = 95.87%\n"
          ]
        },
        {
          "data": {
            "text/plain": [
              "0.9586666666666667"
            ]
          },
          "execution_count": 77,
          "metadata": {},
          "output_type": "execute_result"
        }
      ],
      "source": [
        "classify(models[4], 'label_4', ros_train_features, valid_features, ros_train_label, valid_label)"
      ]
    },
    {
      "cell_type": "markdown",
      "metadata": {},
      "source": [
        "## Feature Engineering"
      ]
    },
    {
      "cell_type": "markdown",
      "metadata": {},
      "source": [
        "### Standardization"
      ]
    },
    {
      "cell_type": "code",
      "execution_count": 78,
      "metadata": {},
      "outputs": [],
      "source": [
        "scaler = StandardScaler()\n",
        "\n",
        "# Fit and transform the training data\n",
        "train_standardized = scaler.fit_transform(train_features['label_4'])\n",
        "\n",
        "# Transform the validation data using the same scaler\n",
        "valid_standardized = scaler.transform(valid_features['label_4'])\n",
        "\n",
        "# Transform the test data using the same scaler\n",
        "test_standardized = scaler.transform(test_)"
      ]
    },
    {
      "cell_type": "code",
      "execution_count": 79,
      "metadata": {},
      "outputs": [],
      "source": [
        "# standardize the random oversampled data\n",
        "scaler = RobustScaler()\n",
        "\n",
        "ros_train_standardized = scaler.fit_transform(ros_train_features['label_4'])\n",
        "ros_valid_standardized = scaler.transform(valid_features['label_4'])\n",
        "ros_test_standardized = scaler.transform(test_)"
      ]
    },
    {
      "cell_type": "markdown",
      "metadata": {},
      "source": [
        "### PCA"
      ]
    },
    {
      "cell_type": "code",
      "execution_count": 80,
      "metadata": {},
      "outputs": [
        {
          "name": "stdout",
          "output_type": "stream",
          "text": [
            "Number of componenets for train data: 350\n"
          ]
        }
      ],
      "source": [
        "threshold = 0.96\n",
        "pca = PCA(threshold, svd_solver='full')\n",
        "\n",
        "\n",
        "pca_train['label_4'] = pca.fit_transform(train_standardized)\n",
        "pca_valid['label_4'] = pca.transform(valid_standardized)\n",
        "pca_test['label_4'] = pca.transform(test_standardized)\n",
        "\n",
        "explained_variance = pca.explained_variance_ratio_\n",
        "\n",
        "retained_features_len = len(explained_variance)\n",
        "print(\"Number of componenets for train data:\", retained_features_len)"
      ]
    },
    {
      "cell_type": "code",
      "execution_count": 81,
      "metadata": {},
      "outputs": [
        {
          "name": "stdout",
          "output_type": "stream",
          "text": [
            "Number of componenets for oversampled train data: 333\n"
          ]
        }
      ],
      "source": [
        "# PCA with oversampled data\n",
        "pca = PCA(threshold, svd_solver='full')\n",
        "\n",
        "pca_ros_train = {}\n",
        "pca_ros_valid = {}\n",
        "pca_ros_test = {}\n",
        "\n",
        "pca_ros_train['label_4'] = pca.fit_transform(ros_train_standardized)\n",
        "pca_ros_valid['label_4'] = pca.transform(ros_valid_standardized)\n",
        "pca_ros_test['label_4'] = pca.transform(ros_test_standardized)\n",
        "\n",
        "explained_variance = pca.explained_variance_ratio_\n",
        "\n",
        "retained_features_len = len(explained_variance)\n",
        "print(\"Number of componenets for oversampled train data:\", retained_features_len)"
      ]
    },
    {
      "cell_type": "code",
      "execution_count": 82,
      "metadata": {},
      "outputs": [
        {
          "name": "stdout",
          "output_type": "stream",
          "text": [
            "svm Accuracy Score for label_4 = 89.07%\n"
          ]
        },
        {
          "data": {
            "text/plain": [
              "0.8906666666666667"
            ]
          },
          "execution_count": 82,
          "metadata": {},
          "output_type": "execute_result"
        }
      ],
      "source": [
        "classify(models[0], 'label_4', pca_train, pca_valid, train_label, valid_label)"
      ]
    },
    {
      "cell_type": "code",
      "execution_count": 83,
      "metadata": {},
      "outputs": [
        {
          "name": "stdout",
          "output_type": "stream",
          "text": [
            "rfc Accuracy Score for label_2 = 75.68%\n"
          ]
        },
        {
          "data": {
            "text/plain": [
              "0.7567934782608695"
            ]
          },
          "execution_count": 83,
          "metadata": {},
          "output_type": "execute_result"
        }
      ],
      "source": [
        "classify(models[1], 'label_2', train_features, valid_features, train_label, valid_label)"
      ]
    },
    {
      "cell_type": "code",
      "execution_count": 84,
      "metadata": {},
      "outputs": [
        {
          "name": "stdout",
          "output_type": "stream",
          "text": [
            "knn Accuracy Score for label_4 = 94.67%\n"
          ]
        },
        {
          "data": {
            "text/plain": [
              "0.9466666666666667"
            ]
          },
          "execution_count": 84,
          "metadata": {},
          "output_type": "execute_result"
        }
      ],
      "source": [
        "classify(models[4], 'label_4', pca_ros_train, pca_ros_valid, ros_train_label, valid_label)"
      ]
    },
    {
      "cell_type": "markdown",
      "metadata": {},
      "source": [
        "## Hyper Parameter Tuning"
      ]
    },
    {
      "cell_type": "code",
      "execution_count": 85,
      "metadata": {},
      "outputs": [],
      "source": [
        "X_train = pca_train['label_4']\n",
        "X_valid = pca_valid['label_4']\n",
        "y_train = train_label['label_4']\n",
        "y_valid = valid_label['label_4']"
      ]
    },
    {
      "cell_type": "code",
      "execution_count": 86,
      "metadata": {},
      "outputs": [
        {
          "name": "stdout",
          "output_type": "stream",
          "text": [
            "Fitting 2 folds for each of 5 candidates, totalling 10 fits\n"
          ]
        },
        {
          "name": "stdout",
          "output_type": "stream",
          "text": [
            "Best Model: SVC(C=1000.0, class_weight='balanced', gamma=0.1, kernel='poly')\n",
            "Best Accuracy: 81.59%\n",
            "Best Hyperparameters: {'kernel': 'poly', 'gamma': 0.1, 'class_weight': 'balanced', 'C': 1000.0}\n"
          ]
        }
      ],
      "source": [
        "param_distributions = {\n",
        "    'C': np.logspace(-3, 3, 7),\n",
        "    'kernel': ['linear', 'rbf', 'poly'],\n",
        "    'gamma': np.logspace(-3, 3, 7),\n",
        "    'class_weight': ['balanced']\n",
        "}\n",
        "\n",
        "# Create an instance of the classifier\n",
        "classifier = SVC()\n",
        "\n",
        "# Call the function to perform random search and get the best accuracy and hyperparameters\n",
        "best_model, best_accuracy, best_hyperparameters = random_grid_search_classifier(\n",
        "    classifier, \n",
        "    X_train, \n",
        "    y_train, \n",
        "    param_distributions)\n",
        "\n",
        "print(\"Best Model:\", best_model)\n",
        "print(\"Best Accuracy: %.2f%%\" % (best_accuracy * 100))\n",
        "print(\"Best Hyperparameters:\", best_hyperparameters)"
      ]
    },
    {
      "cell_type": "code",
      "execution_count": 87,
      "metadata": {},
      "outputs": [],
      "source": [
        "best_models['label_4'] = best_model"
      ]
    },
    {
      "cell_type": "code",
      "execution_count": 88,
      "metadata": {},
      "outputs": [
        {
          "name": "stdout",
          "output_type": "stream",
          "text": [
            "Accuracy: 97.47%\n"
          ]
        }
      ],
      "source": [
        "accuracy = get_classifier_predictions(best_models['label_4'], X_valid, y_valid)\n",
        "\n",
        "print(\"Accuracy: %.2f%%\" % (accuracy * 100.0))"
      ]
    },
    {
      "cell_type": "code",
      "execution_count": 89,
      "metadata": {},
      "outputs": [
        {
          "name": "stdout",
          "output_type": "stream",
          "text": [
            "Cross-Validation Scores: [0.94161992 0.92952314 0.9414446  0.94670407 0.92180926]\n",
            "Mean Score: 0.9362201963534362\n",
            "Standard Deviation: 0.009153017446849782\n"
          ]
        }
      ],
      "source": [
        "# cross validation\n",
        "classifier = SVC(**best_hyperparameters)\n",
        "\n",
        "k_fold_cross_validation(classifier, 5, X_train, y_train)"
      ]
    },
    {
      "cell_type": "markdown",
      "metadata": {},
      "source": [
        "## Prediction"
      ]
    },
    {
      "cell_type": "code",
      "execution_count": 90,
      "metadata": {},
      "outputs": [],
      "source": [
        "y_preds = {}\n",
        "\n",
        "for label in labels:\n",
        "    y_preds[label] = best_models[label].predict(pca_test[label])"
      ]
    },
    {
      "cell_type": "code",
      "execution_count": 91,
      "metadata": {},
      "outputs": [],
      "source": [
        "id_list = test['ID']\n",
        "\n",
        "result = {\n",
        "    'ID': id_list,\n",
        "    'label_1': y_preds['label_1'],\n",
        "    'label_2': y_preds['label_2'],\n",
        "    'label_3': y_preds['label_3'],\n",
        "    'label_4': y_preds['label_4']\n",
        "}\n",
        "\n",
        "result_ = pd.DataFrame(result)\n",
        "\n",
        "result_.to_csv('layer_9.csv', index=False)"
      ]
    }
  ],
  "metadata": {
    "colab": {
      "provenance": []
    },
    "kernelspec": {
      "display_name": "Python 3",
      "name": "python3"
    },
    "language_info": {
      "codemirror_mode": {
        "name": "ipython",
        "version": 3
      },
      "file_extension": ".py",
      "mimetype": "text/x-python",
      "name": "python",
      "nbconvert_exporter": "python",
      "pygments_lexer": "ipython3",
      "version": "3.9.18"
    }
  },
  "nbformat": 4,
  "nbformat_minor": 0
}
